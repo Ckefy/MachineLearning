{
 "cells": [
  {
   "cell_type": "code",
   "execution_count": 1,
   "metadata": {},
   "outputs": [],
   "source": [
    "import numpy\n",
    "from os import listdir\n",
    "from os.path import isfile, join\n",
    "import math\n",
    "from sklearn.model_selection import KFold\n",
    "from sklearn.metrics import accuracy_score\n",
    "from sklearn.metrics import f1_score\n",
    "from sklearn.metrics import roc_curve\n",
    "import decimal\n",
    "import matplotlib.pyplot as graphs\n",
    "decimal.getcontext().prec = 300"
   ]
  },
  {
   "cell_type": "code",
   "execution_count": 2,
   "metadata": {},
   "outputs": [],
   "source": [
    "def bayes (xTrain, yTrain, xTest, lc, a, N, M):\n",
    "    K = 2 #count of classes - spam or not\n",
    "    countWordInClassMap = [] #does the word was used in certain class\n",
    "    countClass = [] #how much time this class appear\n",
    "    for i in range(K):\n",
    "        countWordInClassMap.append({})\n",
    "        countClass.append(0)\n",
    "    for i in range(N):\n",
    "        tempInput = xTrain[i]\n",
    "        clazz = yTrain[i]\n",
    "        strings = tempInput\n",
    "        countClass[clazz] += 1\n",
    "        for string in set(strings):\n",
    "            if not(string in countWordInClassMap[clazz]):\n",
    "                countWordInClassMap[clazz][string] = 0\n",
    "            countWordInClassMap[clazz][string] += 1\n",
    "        #stop trains, begin tests\n",
    "    pClass = []\n",
    "    #ln(a / b) = ln(a) - ln(b) - for more accuracy we will\n",
    "    #store division like tuple (a, b)\n",
    "    allSet = set()\n",
    "    for i in range(K):\n",
    "        for string in countWordInClassMap[i].keys():\n",
    "            allSet.add(string)\n",
    "    \n",
    "    for i in range(K):\n",
    "        pClass.append({})\n",
    "        for string in allSet:\n",
    "            Q = 2 #len(countWordInClassMap[i])\n",
    "            if not(string in countWordInClassMap[i]):\n",
    "                countX = 0\n",
    "            else:\n",
    "                countX = countWordInClassMap[i][string];\n",
    "            pClass[i][string] = ((countX + a), (countClass[i] + a * Q))\n",
    "    answerY = []\n",
    "    for i in range(M):\n",
    "        tempInput = xTest[i]\n",
    "        strings = set(tempInput)\n",
    "        answer = []\n",
    "        for j in range(K):\n",
    "            if (countClass[j] == 0):\n",
    "                answer.append((math.inf, math.inf))\n",
    "                continue;\n",
    "            answer.append((math.log(lc[j]), math.log(N)))\n",
    "            answer[j] = (answer[j][0] + math.log(countClass[j]), answer[j][1])\n",
    "            #maybe separete them for more accuracy\n",
    "            for string in strings:\n",
    "                if not(string in allSet):\n",
    "                    continue\n",
    "                else:\n",
    "                    if (string in pClass[j]):\n",
    "                        tempAnswer0 = answer[j][0] + math.log(pClass[j].get(string, 0)[0])\n",
    "                        tempAnswer1 = answer[j][1] + math.log(pClass[j].get(string, 0)[1])\n",
    "                        answer[j] = (tempAnswer0, tempAnswer1)\n",
    "                        #answer[j][0] += math.log(pClass[j].get(string, 0)[0])\n",
    "                        #answer[j][1] += math.log(pClass[j].get(string, 0)[1])\n",
    "                    else:\n",
    "                        #when countWordInClassMap[][] == 0\n",
    "                        Q = 2 #len(countWordInClassMap[j])\n",
    "                        tempAnswer0 = answer[j][0] + math.log(a)\n",
    "                        tempAnswer1 = answer[j][1] + math.log(countClass[j] + a * Q)\n",
    "                        answer[j] = (tempAnswer0, tempAnswer1)\n",
    "                        #answer[j][0] += math.log(a)\n",
    "                        #answer[j][1] += math.log(countClass[j] + a * Q)\n",
    "            for string in allSet:\n",
    "                if not(string in strings):\n",
    "                    if (string in pClass[j]):\n",
    "                        tempAnswer0 = answer[j][0] + math.log(pClass[j].get(string, 0)[1] - pClass[j].get(string, 0)[0])\n",
    "                        tempAnswer1 = answer[j][1] + math.log(pClass[j].get(string, 0)[1])\n",
    "                        answer[j] = (tempAnswer0, tempAnswer1)\n",
    "                        #answer[j][0] += math.log(pClass[j].get(string, 0)[0])\n",
    "                        #answer[j][1] += math.log(pClass[j].get(string, 0)[1])\n",
    "                    else:\n",
    "                        #when countWordInClassMap[][] == 0\n",
    "                        Q = 2 #len(countWordInClassMap[j])\n",
    "                        tempAnswer0 = answer[j][0] + math.log(countClass[j] + a * Q - a)\n",
    "                        tempAnswer1 = answer[j][1] + math.log(countClass[j] + a * Q)\n",
    "                        answer[j] = (tempAnswer0, tempAnswer1)\n",
    "                        #answer[j][0] += math.log(a)\n",
    "                        #answer[j][1] += math.log(countClass[j] + a * Q)\n",
    "        answerWithoutLn = []\n",
    "        allAnswer = 0\n",
    "\n",
    "        average = 0\n",
    "        Knotnull = 0\n",
    "        for j in range(K):\n",
    "            if (answer[j][0] == math.inf):\n",
    "                continue;\n",
    "            Knotnull += 1\n",
    "            lna = answer[j][0]\n",
    "            lnb = answer[j][1]\n",
    "            average += (lna - lnb)\n",
    "        average /= Knotnull\n",
    "\n",
    "        for j in range(K):\n",
    "            if (answer[j][0] == math.inf):\n",
    "                answerWithoutLn.append(-1)\n",
    "                continue;\n",
    "            lna = answer[j][0]\n",
    "            lnb = answer[j][1]\n",
    "            answerWithoutLn.append(decimal.Decimal(lna - lnb - average).exp())\n",
    "            allAnswer += answerWithoutLn[j]\n",
    "        prob = []\n",
    "        for j in range(K):\n",
    "            if (answerWithoutLn[j] == -1):\n",
    "                prob.append(0)\n",
    "                continue\n",
    "            prob.append(float(answerWithoutLn[j] / allAnswer))\n",
    "        if (prob[0] > prob[1]):\n",
    "            answerY.append(prob[1]) #0\n",
    "        else:\n",
    "            answerY.append(prob[1]) #1\n",
    "    return answerY"
   ]
  },
  {
   "cell_type": "code",
   "execution_count": 3,
   "metadata": {},
   "outputs": [],
   "source": [
    "N = 1 #for N-grams\n",
    "x = []\n",
    "y = []\n",
    "for i in range (10):\n",
    "    curPrefix = \"data/part\" + str(i + 1) + \"/\"\n",
    "    curFiles = [curPrefix + file for file in listdir(\"data/part\" + str(i + 1)) if isfile(join(\"data/part\" + str(i + 1), file))]\n",
    "    curX = []\n",
    "    curY = []\n",
    "    for file in curFiles:\n",
    "        with open(file, \"r\") as curFile:\n",
    "            preSplit = curFile.readline().split()\n",
    "            preSplit = preSplit[1:]\n",
    "            grams = [preSplit[i:i+N] for i in range(len(preSplit)-N+1)]\n",
    "            topic = []\n",
    "            for gram in grams:\n",
    "                tempString = ''\n",
    "                for j in range(len(gram)):\n",
    "                    tempString = tempString + ' ' + gram[j] + ' '\n",
    "                topic.append(tempString.lstrip().rstrip())\n",
    "            temp = curFile.readline()\n",
    "            temp = curFile.readline().split()\n",
    "            grams = [temp[i:i+N] for i in range(len(temp)-N+1)]\n",
    "            for gram in grams:\n",
    "                tempString = ''\n",
    "                for j in range(len(gram)):\n",
    "                    tempString = tempString + ' ' + gram[j] + ' '\n",
    "                topic.append(tempString.lstrip().rstrip())\n",
    "            curX.append(numpy.array(topic))\n",
    "            if \"legit\" in file:\n",
    "                curY.append(1)\n",
    "            else:\n",
    "                curY.append(0)\n",
    "    x.extend(list(curX))\n",
    "    y.extend(list(curY))\n",
    "x = numpy.array(x)\n",
    "y = numpy.array(y)"
   ]
  },
  {
   "cell_type": "code",
   "execution_count": 4,
   "metadata": {},
   "outputs": [],
   "source": [
    "def fscore(lc, a):\n",
    "    model = KFold(n_splits = 10)\n",
    "    ans = []\n",
    "    for train, test in model.split(x):\n",
    "        xTrain = x[train]\n",
    "        yTrain = y[train]\n",
    "        xTest = x[test]\n",
    "        yTest = y[test]\n",
    "        yNow = numpy.array(bayes(xTrain, yTrain, xTest, lc, a, len(xTrain), len(xTest)))\n",
    "        ans.append(f1_score(yTest, yNow.round()))\n",
    "    return (sum(ans) / len(ans), lc, a)"
   ]
  },
  {
   "cell_type": "code",
   "execution_count": 5,
   "metadata": {},
   "outputs": [],
   "source": [
    "def accuracyScore(lc, a):\n",
    "    model = KFold(n_splits = 10)\n",
    "    ans = []\n",
    "    #tpr = tp / p\n",
    "    #fpr = fp / n\n",
    "    yATest = numpy.array([])\n",
    "    yANow = numpy.array([])\n",
    "    for train, test in model.split(x):\n",
    "        xTrain = x[train]\n",
    "        yTrain = y[train]\n",
    "        xTest = x[test]\n",
    "        yTest = y[test]\n",
    "        yNow = numpy.array(bayes(xTrain, yTrain, xTest, lc, a, len(xTrain), len(xTest)))\n",
    "        print(\"kek\")\n",
    "        yATest = numpy.concatenate((yATest, yTest), axis = 0)\n",
    "        yANow = numpy.concatenate((yANow, yNow), axis = 0)\n",
    "        ans.append(accuracy_score(yTest, yNow.round()))\n",
    "    fpr, tpr, holds = roc_curve(yATest, yANow) #drop_intermediate=False\n",
    "    return (sum(ans) / len(ans), fpr, tpr)"
   ]
  },
  {
   "cell_type": "code",
   "execution_count": 9,
   "metadata": {},
   "outputs": [
    {
     "ename": "ValueError",
     "evalue": "Classification metrics can't handle a mix of binary and continuous targets",
     "output_type": "error",
     "traceback": [
      "\u001b[1;31m---------------------------------------------------------------------------\u001b[0m",
      "\u001b[1;31mValueError\u001b[0m                                Traceback (most recent call last)",
      "\u001b[1;32m<ipython-input-9-cca34dfeaa5c>\u001b[0m in \u001b[0;36m<module>\u001b[1;34m\u001b[0m\n\u001b[0;32m      2\u001b[0m \u001b[1;31m#best = fscore([1, 1], 1) #по оси x - False positive rate = fp / n, по оси y - True positive rate = tp / p\u001b[0m\u001b[1;33m\u001b[0m\u001b[1;33m\u001b[0m\u001b[1;33m\u001b[0m\u001b[0m\n\u001b[0;32m      3\u001b[0m \u001b[1;31m#bestAccuracyRoc = accuracyScore(best[1], best[2])\u001b[0m\u001b[1;33m\u001b[0m\u001b[1;33m\u001b[0m\u001b[1;33m\u001b[0m\u001b[0m\n\u001b[1;32m----> 4\u001b[1;33m \u001b[0mprint\u001b[0m\u001b[1;33m(\u001b[0m\u001b[0mfscore\u001b[0m\u001b[1;33m(\u001b[0m\u001b[1;33m[\u001b[0m\u001b[1;36m1\u001b[0m\u001b[1;33m,\u001b[0m \u001b[1;36m1\u001b[0m\u001b[1;33m]\u001b[0m\u001b[1;33m,\u001b[0m \u001b[1;36m0.0000001\u001b[0m\u001b[1;33m)\u001b[0m\u001b[1;33m)\u001b[0m\u001b[1;33m\u001b[0m\u001b[1;33m\u001b[0m\u001b[0m\n\u001b[0m\u001b[0;32m      5\u001b[0m \u001b[0mbestAccuracyRoc\u001b[0m \u001b[1;33m=\u001b[0m \u001b[0maccuracyScore\u001b[0m\u001b[1;33m(\u001b[0m\u001b[1;33m[\u001b[0m\u001b[1;36m1\u001b[0m\u001b[1;33m,\u001b[0m \u001b[1;36m1\u001b[0m\u001b[1;33m]\u001b[0m\u001b[1;33m,\u001b[0m \u001b[1;36m0.0000001\u001b[0m\u001b[1;33m)\u001b[0m\u001b[1;33m\u001b[0m\u001b[1;33m\u001b[0m\u001b[0m\n",
      "\u001b[1;32m<ipython-input-4-75c4fa94940a>\u001b[0m in \u001b[0;36mfscore\u001b[1;34m(lc, a)\u001b[0m\n\u001b[0;32m      8\u001b[0m         \u001b[0myTest\u001b[0m \u001b[1;33m=\u001b[0m \u001b[0my\u001b[0m\u001b[1;33m[\u001b[0m\u001b[0mtest\u001b[0m\u001b[1;33m]\u001b[0m\u001b[1;33m\u001b[0m\u001b[1;33m\u001b[0m\u001b[0m\n\u001b[0;32m      9\u001b[0m         \u001b[0myNow\u001b[0m \u001b[1;33m=\u001b[0m \u001b[0mbayes\u001b[0m\u001b[1;33m(\u001b[0m\u001b[0mxTrain\u001b[0m\u001b[1;33m,\u001b[0m \u001b[0myTrain\u001b[0m\u001b[1;33m,\u001b[0m \u001b[0mxTest\u001b[0m\u001b[1;33m,\u001b[0m \u001b[0mlc\u001b[0m\u001b[1;33m,\u001b[0m \u001b[0ma\u001b[0m\u001b[1;33m,\u001b[0m \u001b[0mlen\u001b[0m\u001b[1;33m(\u001b[0m\u001b[0mxTrain\u001b[0m\u001b[1;33m)\u001b[0m\u001b[1;33m,\u001b[0m \u001b[0mlen\u001b[0m\u001b[1;33m(\u001b[0m\u001b[0mxTest\u001b[0m\u001b[1;33m)\u001b[0m\u001b[1;33m)\u001b[0m\u001b[1;33m\u001b[0m\u001b[1;33m\u001b[0m\u001b[0m\n\u001b[1;32m---> 10\u001b[1;33m         \u001b[0mans\u001b[0m\u001b[1;33m.\u001b[0m\u001b[0mappend\u001b[0m\u001b[1;33m(\u001b[0m\u001b[0mf1_score\u001b[0m\u001b[1;33m(\u001b[0m\u001b[0myTest\u001b[0m\u001b[1;33m,\u001b[0m \u001b[0myNow\u001b[0m\u001b[1;33m)\u001b[0m\u001b[1;33m)\u001b[0m\u001b[1;33m\u001b[0m\u001b[1;33m\u001b[0m\u001b[0m\n\u001b[0m\u001b[0;32m     11\u001b[0m     \u001b[1;32mreturn\u001b[0m \u001b[1;33m(\u001b[0m\u001b[0msum\u001b[0m\u001b[1;33m(\u001b[0m\u001b[0mans\u001b[0m\u001b[1;33m)\u001b[0m \u001b[1;33m/\u001b[0m \u001b[0mlen\u001b[0m\u001b[1;33m(\u001b[0m\u001b[0mans\u001b[0m\u001b[1;33m)\u001b[0m\u001b[1;33m,\u001b[0m \u001b[0mlc\u001b[0m\u001b[1;33m,\u001b[0m \u001b[0ma\u001b[0m\u001b[1;33m)\u001b[0m\u001b[1;33m\u001b[0m\u001b[1;33m\u001b[0m\u001b[0m\n",
      "\u001b[1;32mc:\\users\\ckefy\\appdata\\local\\programs\\python\\python37\\lib\\site-packages\\sklearn\\utils\\validation.py\u001b[0m in \u001b[0;36minner_f\u001b[1;34m(*args, **kwargs)\u001b[0m\n\u001b[0;32m     70\u001b[0m                           FutureWarning)\n\u001b[0;32m     71\u001b[0m         \u001b[0mkwargs\u001b[0m\u001b[1;33m.\u001b[0m\u001b[0mupdate\u001b[0m\u001b[1;33m(\u001b[0m\u001b[1;33m{\u001b[0m\u001b[0mk\u001b[0m\u001b[1;33m:\u001b[0m \u001b[0marg\u001b[0m \u001b[1;32mfor\u001b[0m \u001b[0mk\u001b[0m\u001b[1;33m,\u001b[0m \u001b[0marg\u001b[0m \u001b[1;32min\u001b[0m \u001b[0mzip\u001b[0m\u001b[1;33m(\u001b[0m\u001b[0msig\u001b[0m\u001b[1;33m.\u001b[0m\u001b[0mparameters\u001b[0m\u001b[1;33m,\u001b[0m \u001b[0margs\u001b[0m\u001b[1;33m)\u001b[0m\u001b[1;33m}\u001b[0m\u001b[1;33m)\u001b[0m\u001b[1;33m\u001b[0m\u001b[1;33m\u001b[0m\u001b[0m\n\u001b[1;32m---> 72\u001b[1;33m         \u001b[1;32mreturn\u001b[0m \u001b[0mf\u001b[0m\u001b[1;33m(\u001b[0m\u001b[1;33m**\u001b[0m\u001b[0mkwargs\u001b[0m\u001b[1;33m)\u001b[0m\u001b[1;33m\u001b[0m\u001b[1;33m\u001b[0m\u001b[0m\n\u001b[0m\u001b[0;32m     73\u001b[0m     \u001b[1;32mreturn\u001b[0m \u001b[0minner_f\u001b[0m\u001b[1;33m\u001b[0m\u001b[1;33m\u001b[0m\u001b[0m\n\u001b[0;32m     74\u001b[0m \u001b[1;33m\u001b[0m\u001b[0m\n",
      "\u001b[1;32mc:\\users\\ckefy\\appdata\\local\\programs\\python\\python37\\lib\\site-packages\\sklearn\\metrics\\_classification.py\u001b[0m in \u001b[0;36mf1_score\u001b[1;34m(y_true, y_pred, labels, pos_label, average, sample_weight, zero_division)\u001b[0m\n\u001b[0;32m   1045\u001b[0m                        \u001b[0mpos_label\u001b[0m\u001b[1;33m=\u001b[0m\u001b[0mpos_label\u001b[0m\u001b[1;33m,\u001b[0m \u001b[0maverage\u001b[0m\u001b[1;33m=\u001b[0m\u001b[0maverage\u001b[0m\u001b[1;33m,\u001b[0m\u001b[1;33m\u001b[0m\u001b[1;33m\u001b[0m\u001b[0m\n\u001b[0;32m   1046\u001b[0m                        \u001b[0msample_weight\u001b[0m\u001b[1;33m=\u001b[0m\u001b[0msample_weight\u001b[0m\u001b[1;33m,\u001b[0m\u001b[1;33m\u001b[0m\u001b[1;33m\u001b[0m\u001b[0m\n\u001b[1;32m-> 1047\u001b[1;33m                        zero_division=zero_division)\n\u001b[0m\u001b[0;32m   1048\u001b[0m \u001b[1;33m\u001b[0m\u001b[0m\n\u001b[0;32m   1049\u001b[0m \u001b[1;33m\u001b[0m\u001b[0m\n",
      "\u001b[1;32mc:\\users\\ckefy\\appdata\\local\\programs\\python\\python37\\lib\\site-packages\\sklearn\\utils\\validation.py\u001b[0m in \u001b[0;36minner_f\u001b[1;34m(*args, **kwargs)\u001b[0m\n\u001b[0;32m     70\u001b[0m                           FutureWarning)\n\u001b[0;32m     71\u001b[0m         \u001b[0mkwargs\u001b[0m\u001b[1;33m.\u001b[0m\u001b[0mupdate\u001b[0m\u001b[1;33m(\u001b[0m\u001b[1;33m{\u001b[0m\u001b[0mk\u001b[0m\u001b[1;33m:\u001b[0m \u001b[0marg\u001b[0m \u001b[1;32mfor\u001b[0m \u001b[0mk\u001b[0m\u001b[1;33m,\u001b[0m \u001b[0marg\u001b[0m \u001b[1;32min\u001b[0m \u001b[0mzip\u001b[0m\u001b[1;33m(\u001b[0m\u001b[0msig\u001b[0m\u001b[1;33m.\u001b[0m\u001b[0mparameters\u001b[0m\u001b[1;33m,\u001b[0m \u001b[0margs\u001b[0m\u001b[1;33m)\u001b[0m\u001b[1;33m}\u001b[0m\u001b[1;33m)\u001b[0m\u001b[1;33m\u001b[0m\u001b[1;33m\u001b[0m\u001b[0m\n\u001b[1;32m---> 72\u001b[1;33m         \u001b[1;32mreturn\u001b[0m \u001b[0mf\u001b[0m\u001b[1;33m(\u001b[0m\u001b[1;33m**\u001b[0m\u001b[0mkwargs\u001b[0m\u001b[1;33m)\u001b[0m\u001b[1;33m\u001b[0m\u001b[1;33m\u001b[0m\u001b[0m\n\u001b[0m\u001b[0;32m     73\u001b[0m     \u001b[1;32mreturn\u001b[0m \u001b[0minner_f\u001b[0m\u001b[1;33m\u001b[0m\u001b[1;33m\u001b[0m\u001b[0m\n\u001b[0;32m     74\u001b[0m \u001b[1;33m\u001b[0m\u001b[0m\n",
      "\u001b[1;32mc:\\users\\ckefy\\appdata\\local\\programs\\python\\python37\\lib\\site-packages\\sklearn\\metrics\\_classification.py\u001b[0m in \u001b[0;36mfbeta_score\u001b[1;34m(y_true, y_pred, beta, labels, pos_label, average, sample_weight, zero_division)\u001b[0m\n\u001b[0;32m   1173\u001b[0m                                                  \u001b[0mwarn_for\u001b[0m\u001b[1;33m=\u001b[0m\u001b[1;33m(\u001b[0m\u001b[1;34m'f-score'\u001b[0m\u001b[1;33m,\u001b[0m\u001b[1;33m)\u001b[0m\u001b[1;33m,\u001b[0m\u001b[1;33m\u001b[0m\u001b[1;33m\u001b[0m\u001b[0m\n\u001b[0;32m   1174\u001b[0m                                                  \u001b[0msample_weight\u001b[0m\u001b[1;33m=\u001b[0m\u001b[0msample_weight\u001b[0m\u001b[1;33m,\u001b[0m\u001b[1;33m\u001b[0m\u001b[1;33m\u001b[0m\u001b[0m\n\u001b[1;32m-> 1175\u001b[1;33m                                                  zero_division=zero_division)\n\u001b[0m\u001b[0;32m   1176\u001b[0m     \u001b[1;32mreturn\u001b[0m \u001b[0mf\u001b[0m\u001b[1;33m\u001b[0m\u001b[1;33m\u001b[0m\u001b[0m\n\u001b[0;32m   1177\u001b[0m \u001b[1;33m\u001b[0m\u001b[0m\n",
      "\u001b[1;32mc:\\users\\ckefy\\appdata\\local\\programs\\python\\python37\\lib\\site-packages\\sklearn\\utils\\validation.py\u001b[0m in \u001b[0;36minner_f\u001b[1;34m(*args, **kwargs)\u001b[0m\n\u001b[0;32m     70\u001b[0m                           FutureWarning)\n\u001b[0;32m     71\u001b[0m         \u001b[0mkwargs\u001b[0m\u001b[1;33m.\u001b[0m\u001b[0mupdate\u001b[0m\u001b[1;33m(\u001b[0m\u001b[1;33m{\u001b[0m\u001b[0mk\u001b[0m\u001b[1;33m:\u001b[0m \u001b[0marg\u001b[0m \u001b[1;32mfor\u001b[0m \u001b[0mk\u001b[0m\u001b[1;33m,\u001b[0m \u001b[0marg\u001b[0m \u001b[1;32min\u001b[0m \u001b[0mzip\u001b[0m\u001b[1;33m(\u001b[0m\u001b[0msig\u001b[0m\u001b[1;33m.\u001b[0m\u001b[0mparameters\u001b[0m\u001b[1;33m,\u001b[0m \u001b[0margs\u001b[0m\u001b[1;33m)\u001b[0m\u001b[1;33m}\u001b[0m\u001b[1;33m)\u001b[0m\u001b[1;33m\u001b[0m\u001b[1;33m\u001b[0m\u001b[0m\n\u001b[1;32m---> 72\u001b[1;33m         \u001b[1;32mreturn\u001b[0m \u001b[0mf\u001b[0m\u001b[1;33m(\u001b[0m\u001b[1;33m**\u001b[0m\u001b[0mkwargs\u001b[0m\u001b[1;33m)\u001b[0m\u001b[1;33m\u001b[0m\u001b[1;33m\u001b[0m\u001b[0m\n\u001b[0m\u001b[0;32m     73\u001b[0m     \u001b[1;32mreturn\u001b[0m \u001b[0minner_f\u001b[0m\u001b[1;33m\u001b[0m\u001b[1;33m\u001b[0m\u001b[0m\n\u001b[0;32m     74\u001b[0m \u001b[1;33m\u001b[0m\u001b[0m\n",
      "\u001b[1;32mc:\\users\\ckefy\\appdata\\local\\programs\\python\\python37\\lib\\site-packages\\sklearn\\metrics\\_classification.py\u001b[0m in \u001b[0;36mprecision_recall_fscore_support\u001b[1;34m(y_true, y_pred, beta, labels, pos_label, average, warn_for, sample_weight, zero_division)\u001b[0m\n\u001b[0;32m   1432\u001b[0m         \u001b[1;32mraise\u001b[0m \u001b[0mValueError\u001b[0m\u001b[1;33m(\u001b[0m\u001b[1;34m\"beta should be >=0 in the F-beta score\"\u001b[0m\u001b[1;33m)\u001b[0m\u001b[1;33m\u001b[0m\u001b[1;33m\u001b[0m\u001b[0m\n\u001b[0;32m   1433\u001b[0m     labels = _check_set_wise_labels(y_true, y_pred, average, labels,\n\u001b[1;32m-> 1434\u001b[1;33m                                     pos_label)\n\u001b[0m\u001b[0;32m   1435\u001b[0m \u001b[1;33m\u001b[0m\u001b[0m\n\u001b[0;32m   1436\u001b[0m     \u001b[1;31m# Calculate tp_sum, pred_sum, true_sum ###\u001b[0m\u001b[1;33m\u001b[0m\u001b[1;33m\u001b[0m\u001b[1;33m\u001b[0m\u001b[0m\n",
      "\u001b[1;32mc:\\users\\ckefy\\appdata\\local\\programs\\python\\python37\\lib\\site-packages\\sklearn\\metrics\\_classification.py\u001b[0m in \u001b[0;36m_check_set_wise_labels\u001b[1;34m(y_true, y_pred, average, labels, pos_label)\u001b[0m\n\u001b[0;32m   1248\u001b[0m                          str(average_options))\n\u001b[0;32m   1249\u001b[0m \u001b[1;33m\u001b[0m\u001b[0m\n\u001b[1;32m-> 1250\u001b[1;33m     \u001b[0my_type\u001b[0m\u001b[1;33m,\u001b[0m \u001b[0my_true\u001b[0m\u001b[1;33m,\u001b[0m \u001b[0my_pred\u001b[0m \u001b[1;33m=\u001b[0m \u001b[0m_check_targets\u001b[0m\u001b[1;33m(\u001b[0m\u001b[0my_true\u001b[0m\u001b[1;33m,\u001b[0m \u001b[0my_pred\u001b[0m\u001b[1;33m)\u001b[0m\u001b[1;33m\u001b[0m\u001b[1;33m\u001b[0m\u001b[0m\n\u001b[0m\u001b[0;32m   1251\u001b[0m     \u001b[0mpresent_labels\u001b[0m \u001b[1;33m=\u001b[0m \u001b[0munique_labels\u001b[0m\u001b[1;33m(\u001b[0m\u001b[0my_true\u001b[0m\u001b[1;33m,\u001b[0m \u001b[0my_pred\u001b[0m\u001b[1;33m)\u001b[0m\u001b[1;33m\u001b[0m\u001b[1;33m\u001b[0m\u001b[0m\n\u001b[0;32m   1252\u001b[0m     \u001b[1;32mif\u001b[0m \u001b[0maverage\u001b[0m \u001b[1;33m==\u001b[0m \u001b[1;34m'binary'\u001b[0m\u001b[1;33m:\u001b[0m\u001b[1;33m\u001b[0m\u001b[1;33m\u001b[0m\u001b[0m\n",
      "\u001b[1;32mc:\\users\\ckefy\\appdata\\local\\programs\\python\\python37\\lib\\site-packages\\sklearn\\metrics\\_classification.py\u001b[0m in \u001b[0;36m_check_targets\u001b[1;34m(y_true, y_pred)\u001b[0m\n\u001b[0;32m     89\u001b[0m     \u001b[1;32mif\u001b[0m \u001b[0mlen\u001b[0m\u001b[1;33m(\u001b[0m\u001b[0my_type\u001b[0m\u001b[1;33m)\u001b[0m \u001b[1;33m>\u001b[0m \u001b[1;36m1\u001b[0m\u001b[1;33m:\u001b[0m\u001b[1;33m\u001b[0m\u001b[1;33m\u001b[0m\u001b[0m\n\u001b[0;32m     90\u001b[0m         raise ValueError(\"Classification metrics can't handle a mix of {0} \"\n\u001b[1;32m---> 91\u001b[1;33m                          \"and {1} targets\".format(type_true, type_pred))\n\u001b[0m\u001b[0;32m     92\u001b[0m \u001b[1;33m\u001b[0m\u001b[0m\n\u001b[0;32m     93\u001b[0m     \u001b[1;31m# We can't have more than one value on y_type => The set is no more needed\u001b[0m\u001b[1;33m\u001b[0m\u001b[1;33m\u001b[0m\u001b[1;33m\u001b[0m\u001b[0m\n",
      "\u001b[1;31mValueError\u001b[0m: Classification metrics can't handle a mix of binary and continuous targets"
     ]
    }
   ],
   "source": [
    "#Перебор lc и a в поисках лучшего fscore - тут считаем настоящее best, переписать то что ниже\n",
    "#best = fscore([1, 1], 1) #по оси x - False positive rate = fp / n, по оси y - True positive rate = tp / p\n",
    "#bestAccuracyRoc = accuracyScore(best[1], best[2])\n",
    "print(fscore([1, 1], 0.0000001))\n",
    "bestAccuracyRoc = accuracyScore([1, 1], 0.0000001)"
   ]
  },
  {
   "cell_type": "code",
   "execution_count": 7,
   "metadata": {},
   "outputs": [
    {
     "name": "stdout",
     "output_type": "stream",
     "text": [
      "[0.         0.02291667 0.02291667 0.02708333 0.02708333 0.02916667\n",
      " 0.02916667 0.04375    0.04375    0.05       0.05       0.05625\n",
      " 0.05625    0.06666667 0.06666667 0.075      0.075      0.2\n",
      " 0.20416667 0.22916667 0.22916667 0.33958333 0.33958333 0.5375\n",
      " 0.54166667 0.55833333 0.5625     0.775      1.        ]\n",
      "[0.         0.98032787 0.98196721 0.98196721 0.9852459  0.9852459\n",
      " 0.98688525 0.98688525 0.98852459 0.98852459 0.99180328 0.99180328\n",
      " 0.99344262 0.99344262 0.99508197 0.99508197 0.99672131 0.99672131\n",
      " 0.99672131 0.99672131 0.99836066 0.99836066 1.         1.\n",
      " 1.         1.         1.         1.         1.        ]\n"
     ]
    }
   ],
   "source": [
    "fpr = bestAccuracyRoc[1]\n",
    "tpr = bestAccuracyRoc[2]\n",
    "print(fpr)\n",
    "print(tpr)"
   ]
  },
  {
   "cell_type": "code",
   "execution_count": 8,
   "metadata": {},
   "outputs": [
    {
     "data": {
      "image/png": "[encoded data removed]",
      "text/plain": [
       "<Figure size 432x288 with 1 Axes>"
      ]
     },
     "metadata": {
      "needs_background": "light"
     },
     "output_type": "display_data"
    }
   ],
   "source": [
    "graphs.plot(fpr, tpr)\n",
    "graphs.show()"
   ]
  },
  {
   "cell_type": "code",
   "execution_count": null,
   "metadata": {},
   "outputs": [],
   "source": []
  }
 ],
 "metadata": {
  "kernelspec": {
   "display_name": "Python 3",
   "language": "python",
   "name": "python3"
  },
  "language_info": {
   "codemirror_mode": {
    "name": "ipython",
    "version": 3
   },
   "file_extension": ".py",
   "mimetype": "text/x-python",
   "name": "python",
   "nbconvert_exporter": "python",
   "pygments_lexer": "ipython3",
   "version": "3.7.7"
  }
 },
 "nbformat": 4,
 "nbformat_minor": 4
}
