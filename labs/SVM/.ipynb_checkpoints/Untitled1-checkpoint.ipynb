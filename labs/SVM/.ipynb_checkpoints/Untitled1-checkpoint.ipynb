{
 "cells": [
  {
   "cell_type": "code",
   "execution_count": 2,
   "metadata": {},
   "outputs": [],
   "source": [
    "import random\n",
    "import warnings\n",
    "warnings.filterwarnings('ignore')\n",
    "import pandas\n",
    "import numpy as np\n",
    "from sklearn.model_selection import KFold\n",
    "from sklearn.metrics import f1_score\n",
    "\n",
    "from matplotlib.colors import ListedColormap\n",
    "import matplotlib.pyplot as plt"
   ]
  },
  {
   "cell_type": "code",
   "execution_count": 3,
   "metadata": {},
   "outputs": [],
   "source": [
    "tol = 0.000001 #numerical tolerance\n",
    "max_passes = 50 #max number of times to iterate over a`s without changing\n",
    "#f(x)=sum(a_i*y_i*K(x_i,x)) + b\n",
    "\n",
    "#constants\n",
    "polD = 0\n",
    "polDs = [2, 3, 4, 5]\n",
    "gausBetta = 0\n",
    "gausBettas = [1, 2, 3, 4, 5]\n",
    "c = 0\n",
    "cs = [0.05, 0.1, 0.5, 1.0, 5.0, 10.0, 50.0, 100.0]\n",
    "polK = 0.5 #maybe 1\n",
    "kernType = 'start'"
   ]
  },
  {
   "cell_type": "code",
   "execution_count": 4,
   "metadata": {},
   "outputs": [
    {
     "data": {
      "text/html": [
       "<div>\n",
       "<style scoped>\n",
       "    .dataframe tbody tr th:only-of-type {\n",
       "        vertical-align: middle;\n",
       "    }\n",
       "\n",
       "    .dataframe tbody tr th {\n",
       "        vertical-align: top;\n",
       "    }\n",
       "\n",
       "    .dataframe thead th {\n",
       "        text-align: right;\n",
       "    }\n",
       "</style>\n",
       "<table border=\"1\" class=\"dataframe\">\n",
       "  <thead>\n",
       "    <tr style=\"text-align: right;\">\n",
       "      <th></th>\n",
       "      <th>x</th>\n",
       "      <th>y</th>\n",
       "      <th>class</th>\n",
       "    </tr>\n",
       "  </thead>\n",
       "  <tbody>\n",
       "    <tr>\n",
       "      <th>0</th>\n",
       "      <td>1</td>\n",
       "      <td>4.4</td>\n",
       "      <td>N</td>\n",
       "    </tr>\n",
       "    <tr>\n",
       "      <th>1</th>\n",
       "      <td>1</td>\n",
       "      <td>3.9</td>\n",
       "      <td>N</td>\n",
       "    </tr>\n",
       "    <tr>\n",
       "      <th>2</th>\n",
       "      <td>1</td>\n",
       "      <td>4.0</td>\n",
       "      <td>P</td>\n",
       "    </tr>\n",
       "    <tr>\n",
       "      <th>3</th>\n",
       "      <td>1</td>\n",
       "      <td>4.0</td>\n",
       "      <td>N</td>\n",
       "    </tr>\n",
       "    <tr>\n",
       "      <th>4</th>\n",
       "      <td>1</td>\n",
       "      <td>3.5</td>\n",
       "      <td>N</td>\n",
       "    </tr>\n",
       "  </tbody>\n",
       "</table>\n",
       "</div>"
      ],
      "text/plain": [
       "   x    y class\n",
       "0  1  4.4     N\n",
       "1  1  3.9     N\n",
       "2  1  4.0     P\n",
       "3  1  4.0     N\n",
       "4  1  3.5     N"
      ]
     },
     "execution_count": 4,
     "metadata": {},
     "output_type": "execute_result"
    }
   ],
   "source": [
    "table = pandas.read_csv('geyser.csv')\n",
    "table.head()"
   ]
  },
  {
   "cell_type": "code",
   "execution_count": 5,
   "metadata": {},
   "outputs": [],
   "source": [
    "nn = len(table)\n",
    "coordX1 = table['x']\n",
    "coordX2 = table['y']\n",
    "yStr = table['class']\n",
    "vectors = []\n",
    "y = []\n",
    "for i in range (nn):\n",
    "    vectors.append([float(coordX1[i]), float(coordX2[i])])\n",
    "    if yStr[i] == 'P':\n",
    "        y.append(1)\n",
    "    else:\n",
    "        y.append(-1)"
   ]
  },
  {
   "cell_type": "code",
   "execution_count": 6,
   "metadata": {},
   "outputs": [],
   "source": [
    "#dataFrames\n",
    "tableX = table.values[:, :-1]\n",
    "tableY = np.vectorize(lambda l: -1 if l == 'N' else 1)(table['class'])"
   ]
  },
  {
   "cell_type": "code",
   "execution_count": 7,
   "metadata": {},
   "outputs": [],
   "source": [
    "def dist (first, second):\n",
    "    if (kernType == 'lin'):\n",
    "        return np.dot(first, second)\n",
    "    elif (kernType == 'pol'):\n",
    "        return np.power(gausBetta * np.dot(first, second) + polK, polD)\n",
    "    else:\n",
    "        return np.exp(-gausBetta * np.power(np.linalg.norm(first - second), 2))"
   ]
  },
  {
   "cell_type": "code",
   "execution_count": 8,
   "metadata": {},
   "outputs": [],
   "source": [
    "def equals(first, second):\n",
    "    if (abs(first - second) < tol):\n",
    "        return True\n",
    "    else:\n",
    "        return False"
   ]
  },
  {
   "cell_type": "code",
   "execution_count": 9,
   "metadata": {},
   "outputs": [],
   "source": [
    "def fx(index, a, b, n, curVectors, curY):\n",
    "    ans = 0.\n",
    "    for i in range (n):\n",
    "        ans = ans + a[i] * curY[i] * dist(curVectors[index], curVectors[i])\n",
    "    return ans + b"
   ]
  },
  {
   "cell_type": "code",
   "execution_count": 10,
   "metadata": {},
   "outputs": [],
   "source": [
    "def svm(n, curVectors, curY):\n",
    "    a = [] #lagrange multipliers for solution\n",
    "    indicies = []\n",
    "    for i in range (n):\n",
    "        a.append(0)\n",
    "        indicies.append(i)\n",
    "    b = 0 #threshold for solution\n",
    "    for curPass in range (max_passes):\n",
    "        random.shuffle(indicies)\n",
    "        for i in range (n):\n",
    "            Ei = fx(i, a, b, n, curVectors, curY) - curY[i] #it`s f(x) from header\n",
    "            if (((Ei * curY[i] < -tol) and (c > a[i])) or ((Ei * curY[i] > tol) and (0 < a[i]))):\n",
    "                j = indicies[i]\n",
    "                if ((i == j) or (equals(fx(j, a, b, n, curVectors, curY) - curY[j], Ei))):\n",
    "                    continue\n",
    "                Ej = fx(j, a, b, n, curVectors, curY) - curY[j]\n",
    "                if (curY[i] == curY[j]):\n",
    "                    l = max(0., a[i] + a[j] - c)\n",
    "                    r = min(c, a[i] + a[j])\n",
    "                else:\n",
    "                    l = max(0., a[j] - a[j])\n",
    "                    r = min(c, a[j] - a[i] + c)\n",
    "                if (equals(l, r)):\n",
    "                    continue\n",
    "                nu = 2 * dist(curVectors[i], curVectors[j]) - dist(curVectors[j], curVectors[j]) - dist(curVectors[i], curVectors[i])\n",
    "                if (nu > tol):\n",
    "                    continue\n",
    "                ajo = a[j]\n",
    "                aj = max(min(ajo - curY[j] * (Ei - Ej) / nu, r), l)\n",
    "                if (equals(ajo, aj)):\n",
    "                    continue\n",
    "                aio = a[i]\n",
    "                ai = aio + curY[i] * curY[j] * (ajo - aj)\n",
    "                b1 = b - Ei - curY[j] * (aj - ajo) * dist(curVectors[i], curVectors[j]) - curY[i] * (ai - aio) * dist(curVectors[i], curVectors[i])\n",
    "                b2 = b - Ej - curY[j] * (aj - ajo) * dist(curVectors[j], curVectors[j]) - curY[i] * (ai - aio) * dist(curVectors[i], curVectors[j])\n",
    "                #if both a at the bounds then all thresholds between b1 and b2 satisfy KKT\n",
    "                if (aio > 0 and aio < c):\n",
    "                    b = b1\n",
    "                elif (ajo > 0 and ajo < c):\n",
    "                    b = b2\n",
    "                else:\n",
    "                    b = (b1 + b2) / 2\n",
    "                a[i] = ai\n",
    "                a[j] = aj\n",
    "    return (a, b)"
   ]
  },
  {
   "cell_type": "code",
   "execution_count": 11,
   "metadata": {},
   "outputs": [],
   "source": [
    "def signFx(indexX, a, b, n, curVectors, curY):\n",
    "    ans = 0.\n",
    "    for i in range (n):\n",
    "        ans = ans + a[i] * curY[i] * dist(indexX, curVectors[i])\n",
    "    return np.sign(ans + b)"
   ]
  },
  {
   "cell_type": "code",
   "execution_count": 12,
   "metadata": {},
   "outputs": [],
   "source": [
    "def score():\n",
    "    model = KFold()\n",
    "    ans = []\n",
    "    for train, test in model.split(tableX):\n",
    "        xTrain = tableX[train]\n",
    "        yTrain = tableY[train]\n",
    "        xTest = tableX[test]\n",
    "        yTest = tableY[test]\n",
    "        svmModel = svm(len(xTrain), xTrain, yTrain)\n",
    "        yNow = np.apply_along_axis(lambda curX: signFx(curX, svmModel[0], svmModel[1], len(xTest), xTest, yTest), 1, xTest)\n",
    "        ans.append(f1_score(yTest, yNow))\n",
    "    return sum(ans) / len(ans)"
   ]
  },
  {
   "cell_type": "code",
   "execution_count": 13,
   "metadata": {},
   "outputs": [],
   "source": [
    "#tableX and tableY\n",
    "def draw():\n",
    "    step = 0.01\n",
    "    X = tableX\n",
    "    stepx = step\n",
    "    stepy = 0.01\n",
    "    x_min, y_min = np.amin(X, 0)\n",
    "    x_max, y_max = np.amax(X, 0)\n",
    "    x_min -= stepx\n",
    "    x_max += stepx\n",
    "    y_min -= stepy\n",
    "    y_max += stepy\n",
    "    xx, yy = np.meshgrid(np.arange(x_min, x_max, stepx),\n",
    "                         np.arange(y_min, y_max, stepy))\n",
    "    \n",
    "    mesh_dots = np.c_[xx.ravel(), yy.ravel()]\n",
    "    zz = np.apply_along_axis(lambda t: signFx(t, maxi[1][0], maxi[1][1], len(X), X, tableY), 1, mesh_dots)\n",
    "    zz = np.array(zz).reshape(xx.shape)\n",
    "    \n",
    "    plt.figure(figsize=(10, 10))\n",
    "    plt.xlim(x_min, x_max)\n",
    "    plt.ylim(y_min, y_max)\n",
    "    x0, y0 = X[tableY == -1].T\n",
    "    x1, y1 = X[tableY == 1].T\n",
    "    \n",
    "    plt.pcolormesh(xx, yy, zz, cmap=ListedColormap(['#FFAAAA', '#AAAAFF']))\n",
    "    plt.scatter(x0, y0, color='red', s=100)\n",
    "    plt.scatter(x1, y1, color='blue', s=100)\n",
    "    plt.show()"
   ]
  },
  {
   "cell_type": "code",
   "execution_count": null,
   "metadata": {},
   "outputs": [],
   "source": [
    "fscores = [] #score, (a, b), type, c, gausBetta, polD\n",
    "kernType = 'lin'\n",
    "for ic in cs:\n",
    "    c = ic\n",
    "    ansB = svm(nn, vectors, y)\n",
    "    fscores.append((score(), ansB, 'lin', c, -1, -1))"
   ]
  },
  {
   "cell_type": "code",
   "execution_count": 14,
   "metadata": {},
   "outputs": [],
   "source": [
    "maxi = (-1000, 'start', 0, 0, 0)\n",
    "for i in range(len(fscores)):\n",
    "    if (maxi[0] < fscores[i][0]):\n",
    "        maxi = fscores[i]"
   ]
  },
  {
   "cell_type": "code",
   "execution_count": 15,
   "metadata": {},
   "outputs": [
    {
     "name": "stdout",
     "output_type": "stream",
     "text": [
      "0.27612903225806457\n"
     ]
    },
    {
     "data": {
      "image/png": "[encoded data removed]",
      "text/plain": [
       "<Figure size 720x720 with 1 Axes>"
      ]
     },
     "metadata": {
      "needs_background": "light"
     },
     "output_type": "display_data"
    }
   ],
   "source": [
    "maxi1 = maxi\n",
    "print (maxi[0])\n",
    "draw()"
   ]
  },
  {
   "cell_type": "code",
   "execution_count": 16,
   "metadata": {},
   "outputs": [],
   "source": [
    "fscores = []\n",
    "kernType = 'gaus'\n",
    "for igausBetta in gausBettas:\n",
    "    gausBetta = igausBetta\n",
    "    for ic in cs:\n",
    "        c = ic\n",
    "        ansB = svm(nn, np.asarray(vectors), np.asarray(y))\n",
    "        fscores.append((score(), ansB, 'gaus', c, gausBetta, -1))"
   ]
  },
  {
   "cell_type": "code",
   "execution_count": 17,
   "metadata": {},
   "outputs": [],
   "source": [
    "maxi = (-1000, 'start', 0, 0, 0)\n",
    "for i in range(len(fscores)):\n",
    "    if (maxi[0] < fscores[i][0]):\n",
    "        maxi = fscores[i]"
   ]
  },
  {
   "cell_type": "code",
   "execution_count": 18,
   "metadata": {},
   "outputs": [
    {
     "name": "stdout",
     "output_type": "stream",
     "text": [
      "0.8855290972938032\n"
     ]
    },
    {
     "data": {
      "image/png": "[encoded data removed]",
      "text/plain": [
       "<Figure size 720x720 with 1 Axes>"
      ]
     },
     "metadata": {
      "needs_background": "light"
     },
     "output_type": "display_data"
    }
   ],
   "source": [
    "maxi2 = maxi\n",
    "print (maxi[0])\n",
    "draw()"
   ]
  },
  {
   "cell_type": "code",
   "execution_count": 16,
   "metadata": {},
   "outputs": [],
   "source": [
    "fscores = []\n",
    "kernType = 'pol'\n",
    "for igausBetta in gausBettas:\n",
    "    gausBetta = igausBetta\n",
    "    for ipolD in polDs:\n",
    "        polD = ipolD\n",
    "        for ic in cs:\n",
    "            c = ic\n",
    "            ansB = svm(nn, np.asarray(vectors), np.asarray(y))\n",
    "            fscores.append((score(), ansB, 'pol', c, gausBetta, polD))"
   ]
  },
  {
   "cell_type": "code",
   "execution_count": 17,
   "metadata": {},
   "outputs": [],
   "source": [
    "maxi = (-1000, 'start', 0, 0, 0)\n",
    "for i in range(len(fscores)):\n",
    "    if (maxi[0] < fscores[i][0]):\n",
    "        maxi = fscores[i]\n",
    "# -1 - it`s not used in this type of kernel"
   ]
  },
  {
   "cell_type": "code",
   "execution_count": 18,
   "metadata": {},
   "outputs": [
    {
     "name": "stdout",
     "output_type": "stream",
     "text": [
      "0.8787554787554788\n"
     ]
    },
    {
     "data": {
      "image/png": "[encoded data removed]",
      "text/plain": [
       "<Figure size 720x720 with 1 Axes>"
      ]
     },
     "metadata": {
      "needs_background": "light"
     },
     "output_type": "display_data"
    }
   ],
   "source": [
    "maxi3 = maxi\n",
    "print (maxi[0])\n",
    "draw()"
   ]
  },
  {
   "cell_type": "code",
   "execution_count": null,
   "metadata": {},
   "outputs": [],
   "source": []
  }
 ],
 "metadata": {
  "kernelspec": {
   "display_name": "Python 3",
   "language": "python",
   "name": "python3"
  },
  "language_info": {
   "codemirror_mode": {
    "name": "ipython",
    "version": 3
   },
   "file_extension": ".py",
   "mimetype": "text/x-python",
   "name": "python",
   "nbconvert_exporter": "python",
   "pygments_lexer": "ipython3",
   "version": "3.7.7"
  }
 },
 "nbformat": 4,
 "nbformat_minor": 4
}
