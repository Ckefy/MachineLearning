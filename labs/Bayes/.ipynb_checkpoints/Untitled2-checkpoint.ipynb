{
 "cells": [
  {
   "cell_type": "code",
   "execution_count": 1,
   "metadata": {},
   "outputs": [],
   "source": [
    "import numpy\n",
    "from os import listdir\n",
    "from os.path import isfile, join\n",
    "import math\n",
    "from sklearn.model_selection import KFold\n",
    "from sklearn.metrics import accuracy_score\n",
    "from sklearn.metrics import f1_score\n",
    "from sklearn.metrics import roc_curve\n",
    "import decimal\n",
    "import matplotlib.pyplot as graphs\n",
    "decimal.getcontext().prec = 300"
   ]
  },
  {
   "cell_type": "code",
   "execution_count": 2,
   "metadata": {},
   "outputs": [],
   "source": [
    "def bayes (xTrain, yTrain, xTest, lc, a, N, M):\n",
    "    K = 2 #count of classes - spam or not\n",
    "    countWordInClassMap = [] #does the word was used in certain class\n",
    "    countClass = [] #how much time this class appear\n",
    "    for i in range(K):\n",
    "        countWordInClassMap.append({})\n",
    "        countClass.append(0)\n",
    "    for i in range(N):\n",
    "        tempInput = xTrain[i]\n",
    "        clazz = yTrain[i]\n",
    "        strings = tempInput\n",
    "        countClass[clazz] += 1\n",
    "        for string in set(strings):\n",
    "            if not(string in countWordInClassMap[clazz]):\n",
    "                countWordInClassMap[clazz][string] = 0\n",
    "            countWordInClassMap[clazz][string] += 1\n",
    "        #stop trains, begin tests\n",
    "    pClass = []\n",
    "    #ln(a / b) = ln(a) - ln(b) - for more accuracy we will\n",
    "    #store division like tuple (a, b)\n",
    "    allSet = set()\n",
    "    for i in range(K):\n",
    "        for string in countWordInClassMap[i].keys():\n",
    "            allSet.add(string)\n",
    "    \n",
    "    for i in range(K):\n",
    "        pClass.append({})\n",
    "        for string in allSet:\n",
    "            Q = 2 #len(countWordInClassMap[i])\n",
    "            if not(string in countWordInClassMap[i]):\n",
    "                countX = 0\n",
    "            else:\n",
    "                countX = countWordInClassMap[i][string];\n",
    "            pClass[i][string] = ((countX + a), (countClass[i] + a * Q))\n",
    "    answerY = []\n",
    "    for i in range(M):\n",
    "        tempInput = xTest[i]\n",
    "        strings = set(tempInput)\n",
    "        answer = []\n",
    "        for j in range(K):\n",
    "            if (countClass[j] == 0):\n",
    "                answer.append((math.inf, math.inf))\n",
    "                continue;\n",
    "            answer.append((math.log(lc[j]), math.log(N)))\n",
    "            answer[j] = (answer[j][0] + math.log(countClass[j]), answer[j][1])\n",
    "            #maybe separete them for more accuracy\n",
    "            for string in strings:\n",
    "                if not(string in allSet):\n",
    "                    continue\n",
    "                else:\n",
    "                    if (string in pClass[j]):\n",
    "                        tempAnswer0 = answer[j][0] + math.log(pClass[j].get(string, 0)[0])\n",
    "                        tempAnswer1 = answer[j][1] + math.log(pClass[j].get(string, 0)[1])\n",
    "                        answer[j] = (tempAnswer0, tempAnswer1)\n",
    "                        #answer[j][0] += math.log(pClass[j].get(string, 0)[0])\n",
    "                        #answer[j][1] += math.log(pClass[j].get(string, 0)[1])\n",
    "                    else:\n",
    "                        #when countWordInClassMap[][] == 0\n",
    "                        Q = 2 #len(countWordInClassMap[j])\n",
    "                        tempAnswer0 = answer[j][0] + math.log(a)\n",
    "                        tempAnswer1 = answer[j][1] + math.log(countClass[j] + a * Q)\n",
    "                        answer[j] = (tempAnswer0, tempAnswer1)\n",
    "                        #answer[j][0] += math.log(a)\n",
    "                        #answer[j][1] += math.log(countClass[j] + a * Q)\n",
    "            for string in allSet:\n",
    "                if not(string in strings):\n",
    "                    if (string in pClass[j]):\n",
    "                        tempAnswer0 = answer[j][0] + math.log(pClass[j].get(string, 0)[1] - pClass[j].get(string, 0)[0])\n",
    "                        tempAnswer1 = answer[j][1] + math.log(pClass[j].get(string, 0)[1])\n",
    "                        answer[j] = (tempAnswer0, tempAnswer1)\n",
    "                        #answer[j][0] += math.log(pClass[j].get(string, 0)[0])\n",
    "                        #answer[j][1] += math.log(pClass[j].get(string, 0)[1])\n",
    "                    else:\n",
    "                        #when countWordInClassMap[][] == 0\n",
    "                        Q = 2 #len(countWordInClassMap[j])\n",
    "                        tempAnswer0 = answer[j][0] + math.log(countClass[j] + a * Q - a)\n",
    "                        tempAnswer1 = answer[j][1] + math.log(countClass[j] + a * Q)\n",
    "                        answer[j] = (tempAnswer0, tempAnswer1)\n",
    "                        #answer[j][0] += math.log(a)\n",
    "                        #answer[j][1] += math.log(countClass[j] + a * Q)\n",
    "        answerWithoutLn = []\n",
    "        allAnswer = 0\n",
    "\n",
    "        average = 0\n",
    "        Knotnull = 0\n",
    "        for j in range(K):\n",
    "            if (answer[j][0] == math.inf):\n",
    "                continue;\n",
    "            Knotnull += 1\n",
    "            lna = answer[j][0]\n",
    "            lnb = answer[j][1]\n",
    "            average += (lna - lnb)\n",
    "        average /= Knotnull\n",
    "\n",
    "        for j in range(K):\n",
    "            if (answer[j][0] == math.inf):\n",
    "                answerWithoutLn.append(-1)\n",
    "                continue;\n",
    "            lna = answer[j][0]\n",
    "            lnb = answer[j][1]\n",
    "            answerWithoutLn.append(decimal.Decimal(lna - lnb - average).exp())\n",
    "            allAnswer += answerWithoutLn[j]\n",
    "        prob = []\n",
    "        for j in range(K):\n",
    "            if (answerWithoutLn[j] == -1):\n",
    "                prob.append(0)\n",
    "                continue\n",
    "            prob.append(float(answerWithoutLn[j] / allAnswer))\n",
    "        if (prob[0] > prob[1]):\n",
    "            answerY.append(prob[1]) #0\n",
    "        else:\n",
    "            answerY.append(prob[1]) #1\n",
    "    return answerY"
   ]
  },
  {
   "cell_type": "code",
   "execution_count": 3,
   "metadata": {},
   "outputs": [],
   "source": [
    "N = 1 #for N-grams\n",
    "x = []\n",
    "y = []\n",
    "for i in range (10):\n",
    "    curPrefix = \"data/part\" + str(i + 1) + \"/\"\n",
    "    curFiles = [curPrefix + file for file in listdir(\"data/part\" + str(i + 1)) if isfile(join(\"data/part\" + str(i + 1), file))]\n",
    "    curX = []\n",
    "    curY = []\n",
    "    for file in curFiles:\n",
    "        with open(file, \"r\") as curFile:\n",
    "            preSplit = curFile.readline().split()\n",
    "            preSplit = preSplit[1:]\n",
    "            grams = [preSplit[i:i+N] for i in range(len(preSplit)-N+1)]\n",
    "            topic = []\n",
    "            for gram in grams:\n",
    "                tempString = ''\n",
    "                for j in range(len(gram)):\n",
    "                    tempString = tempString + ' ' + gram[j] + ' '\n",
    "                topic.append(tempString.lstrip().rstrip())\n",
    "            temp = curFile.readline()\n",
    "            temp = curFile.readline().split()\n",
    "            grams = [temp[i:i+N] for i in range(len(temp)-N+1)]\n",
    "            for gram in grams:\n",
    "                tempString = ''\n",
    "                for j in range(len(gram)):\n",
    "                    tempString = tempString + ' ' + gram[j] + ' '\n",
    "                topic.append(tempString.lstrip().rstrip())\n",
    "            curX.append(numpy.array(topic))\n",
    "            if \"legit\" in file:\n",
    "                curY.append(1)\n",
    "            else:\n",
    "                curY.append(0)\n",
    "    x.extend(list(curX))\n",
    "    y.extend(list(curY))\n",
    "x = numpy.array(x)\n",
    "y = numpy.array(y)"
   ]
  },
  {
   "cell_type": "code",
   "execution_count": 4,
   "metadata": {},
   "outputs": [],
   "source": [
    "def fscore(lc, a):\n",
    "    model = KFold(n_splits = 10)\n",
    "    ans = []\n",
    "    for train, test in model.split(x):\n",
    "        xTrain = x[train]\n",
    "        yTrain = y[train]\n",
    "        xTest = x[test]\n",
    "        yTest = y[test]\n",
    "        yNow = numpy.array(bayes(xTrain, yTrain, xTest, lc, a, len(xTrain), len(xTest)))\n",
    "        ans.append(f1_score(yTest, yNow.round()))\n",
    "    return (sum(ans) / len(ans), lc, a)"
   ]
  },
  {
   "cell_type": "code",
   "execution_count": 5,
   "metadata": {},
   "outputs": [],
   "source": [
    "def accuracyScore(lc, a):\n",
    "    model = KFold(n_splits = 10)\n",
    "    ans = []\n",
    "    #tpr = tp / p\n",
    "    #fpr = fp / n\n",
    "    yATest = numpy.array([])\n",
    "    yANow = numpy.array([])\n",
    "    for train, test in model.split(x):\n",
    "        xTrain = x[train]\n",
    "        yTrain = y[train]\n",
    "        xTest = x[test]\n",
    "        yTest = y[test]\n",
    "        yNow = numpy.array(bayes(xTrain, yTrain, xTest, lc, a, len(xTrain), len(xTest)))\n",
    "        print(\"Processing\")\n",
    "        yATest = numpy.concatenate((yATest, yTest), axis = 0)\n",
    "        yANow = numpy.concatenate((yANow, yNow), axis = 0)\n",
    "        ans.append(accuracy_score(yTest, yNow.round()))\n",
    "    fpr, tpr, holds = roc_curve(yATest, yANow) #drop_intermediate=False\n",
    "    return (sum(ans) / len(ans), fpr, tpr)"
   ]
  },
  {
   "cell_type": "code",
   "execution_count": 6,
   "metadata": {},
   "outputs": [
    {
     "name": "stdout",
     "output_type": "stream",
     "text": [
      "(0.9744187496616797, [1, 1], 1e-07)\n",
      "Processing\n",
      "Processing\n",
      "Processing\n",
      "Processing\n",
      "Processing\n",
      "Processing\n",
      "Processing\n",
      "Processing\n",
      "Processing\n",
      "Processing\n"
     ]
    }
   ],
   "source": [
    "#Перебор lc и a в поисках лучшего fscore - тут считаем настоящее best\n",
    "#best = fscore([1, 1], 1) #по оси x - False positive rate = fp / n, по оси y - True positive rate = tp / p\n",
    "#bestAccuracyRoc = accuracyScore(best[1], best[2])\n",
    "print(fscore([1, 1], 0.0000001))\n",
    "bestAccuracyRoc = accuracyScore([0.0001, 10000], 0.0000001)"
   ]
  },
  {
   "cell_type": "code",
   "execution_count": 7,
   "metadata": {},
   "outputs": [],
   "source": [
    "fpr = bestAccuracyRoc[1]\n",
    "tpr = bestAccuracyRoc[2]"
   ]
  },
  {
   "cell_type": "code",
   "execution_count": 8,
   "metadata": {},
   "outputs": [
    {
     "data": {
      "image/png": "[encoded data removed]",
      "text/plain": [
       "<Figure size 432x288 with 1 Axes>"
      ]
     },
     "metadata": {
      "needs_background": "light"
     },
     "output_type": "display_data"
    }
   ],
   "source": [
    "graphs.plot(fpr, tpr)\n",
    "graphs.ylabel('True positive')\n",
    "graphs.xlabel('False positive')\n",
    "graphs.show()"
   ]
  },
  {
   "cell_type": "code",
   "execution_count": 9,
   "metadata": {},
   "outputs": [],
   "source": [
    "kek = numpy.array([[1], [2]])"
   ]
  },
  {
   "cell_type": "code",
   "execution_count": 11,
   "metadata": {},
   "outputs": [],
   "source": [
    "kek1 = kek.tolist()"
   ]
  },
  {
   "cell_type": "code",
   "execution_count": null,
   "metadata": {},
   "outputs": [],
   "source": []
  }
 ],
 "metadata": {
  "kernelspec": {
   "display_name": "Python 3",
   "language": "python",
   "name": "python3"
  },
  "language_info": {
   "codemirror_mode": {
    "name": "ipython",
    "version": 3
   },
   "file_extension": ".py",
   "mimetype": "text/x-python",
   "name": "python",
   "nbconvert_exporter": "python",
   "pygments_lexer": "ipython3",
   "version": "3.7.7"
  }
 },
 "nbformat": 4,
 "nbformat_minor": 4
}
