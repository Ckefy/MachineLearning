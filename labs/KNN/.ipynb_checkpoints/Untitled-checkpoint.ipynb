{
 "cells": [
  {
   "cell_type": "code",
   "execution_count": 1,
   "metadata": {},
   "outputs": [],
   "source": [
    "import numpy\n",
    "import pandas\n",
    "import math\n",
    "import matplotlib.pyplot as graphs\n",
    "import predictor"
   ]
  },
  {
   "cell_type": "code",
   "execution_count": 2,
   "metadata": {},
   "outputs": [
    {
     "data": {
      "text/html": [
       "<div>\n",
       "<style scoped>\n",
       "    .dataframe tbody tr th:only-of-type {\n",
       "        vertical-align: middle;\n",
       "    }\n",
       "\n",
       "    .dataframe tbody tr th {\n",
       "        vertical-align: top;\n",
       "    }\n",
       "\n",
       "    .dataframe thead th {\n",
       "        text-align: right;\n",
       "    }\n",
       "</style>\n",
       "<table border=\"1\" class=\"dataframe\">\n",
       "  <thead>\n",
       "    <tr style=\"text-align: right;\">\n",
       "      <th></th>\n",
       "      <th>left-weight</th>\n",
       "      <th>left-distance</th>\n",
       "      <th>right-weight</th>\n",
       "      <th>right-distance</th>\n",
       "      <th>position</th>\n",
       "      <th>class</th>\n",
       "    </tr>\n",
       "  </thead>\n",
       "  <tbody>\n",
       "    <tr>\n",
       "      <th>0</th>\n",
       "      <td>5</td>\n",
       "      <td>1</td>\n",
       "      <td>1</td>\n",
       "      <td>1</td>\n",
       "      <td>o</td>\n",
       "      <td>B</td>\n",
       "    </tr>\n",
       "    <tr>\n",
       "      <th>1</th>\n",
       "      <td>1</td>\n",
       "      <td>1</td>\n",
       "      <td>1</td>\n",
       "      <td>2</td>\n",
       "      <td>x</td>\n",
       "      <td>R</td>\n",
       "    </tr>\n",
       "    <tr>\n",
       "      <th>2</th>\n",
       "      <td>1</td>\n",
       "      <td>1</td>\n",
       "      <td>1</td>\n",
       "      <td>3</td>\n",
       "      <td>o</td>\n",
       "      <td>R</td>\n",
       "    </tr>\n",
       "    <tr>\n",
       "      <th>3</th>\n",
       "      <td>1</td>\n",
       "      <td>1</td>\n",
       "      <td>1</td>\n",
       "      <td>4</td>\n",
       "      <td>b</td>\n",
       "      <td>R</td>\n",
       "    </tr>\n",
       "    <tr>\n",
       "      <th>4</th>\n",
       "      <td>1</td>\n",
       "      <td>1</td>\n",
       "      <td>1</td>\n",
       "      <td>5</td>\n",
       "      <td>o</td>\n",
       "      <td>R</td>\n",
       "    </tr>\n",
       "  </tbody>\n",
       "</table>\n",
       "</div>"
      ],
      "text/plain": [
       "   left-weight  left-distance  right-weight  right-distance position class\n",
       "0            5              1             1               1        o     B\n",
       "1            1              1             1               2        x     R\n",
       "2            1              1             1               3        o     R\n",
       "3            1              1             1               4        b     R\n",
       "4            1              1             1               5        o     R"
      ]
     },
     "execution_count": 2,
     "metadata": {},
     "output_type": "execute_result"
    }
   ],
   "source": [
    "table = pandas.read_csv('table.csv')\n",
    "table.head()"
   ]
  },
  {
   "cell_type": "markdown",
   "metadata": {},
   "source": [
    "# vectorization"
   ]
  },
  {
   "cell_type": "code",
   "execution_count": 3,
   "metadata": {},
   "outputs": [
    {
     "data": {
      "text/html": [
       "<div>\n",
       "<style scoped>\n",
       "    .dataframe tbody tr th:only-of-type {\n",
       "        vertical-align: middle;\n",
       "    }\n",
       "\n",
       "    .dataframe tbody tr th {\n",
       "        vertical-align: top;\n",
       "    }\n",
       "\n",
       "    .dataframe thead th {\n",
       "        text-align: right;\n",
       "    }\n",
       "</style>\n",
       "<table border=\"1\" class=\"dataframe\">\n",
       "  <thead>\n",
       "    <tr style=\"text-align: right;\">\n",
       "      <th></th>\n",
       "      <th>left-weight</th>\n",
       "      <th>left-distance</th>\n",
       "      <th>right-weight</th>\n",
       "      <th>right-distance</th>\n",
       "      <th>position</th>\n",
       "      <th>class</th>\n",
       "    </tr>\n",
       "  </thead>\n",
       "  <tbody>\n",
       "    <tr>\n",
       "      <th>0</th>\n",
       "      <td>5</td>\n",
       "      <td>1</td>\n",
       "      <td>1</td>\n",
       "      <td>1</td>\n",
       "      <td>0</td>\n",
       "      <td>B</td>\n",
       "    </tr>\n",
       "    <tr>\n",
       "      <th>1</th>\n",
       "      <td>1</td>\n",
       "      <td>1</td>\n",
       "      <td>1</td>\n",
       "      <td>2</td>\n",
       "      <td>1</td>\n",
       "      <td>R</td>\n",
       "    </tr>\n",
       "    <tr>\n",
       "      <th>2</th>\n",
       "      <td>1</td>\n",
       "      <td>1</td>\n",
       "      <td>1</td>\n",
       "      <td>3</td>\n",
       "      <td>0</td>\n",
       "      <td>R</td>\n",
       "    </tr>\n",
       "    <tr>\n",
       "      <th>3</th>\n",
       "      <td>1</td>\n",
       "      <td>1</td>\n",
       "      <td>1</td>\n",
       "      <td>4</td>\n",
       "      <td>2</td>\n",
       "      <td>R</td>\n",
       "    </tr>\n",
       "    <tr>\n",
       "      <th>4</th>\n",
       "      <td>1</td>\n",
       "      <td>1</td>\n",
       "      <td>1</td>\n",
       "      <td>5</td>\n",
       "      <td>0</td>\n",
       "      <td>R</td>\n",
       "    </tr>\n",
       "  </tbody>\n",
       "</table>\n",
       "</div>"
      ],
      "text/plain": [
       "   left-weight  left-distance  right-weight  right-distance  position class\n",
       "0            5              1             1               1         0     B\n",
       "1            1              1             1               2         1     R\n",
       "2            1              1             1               3         0     R\n",
       "3            1              1             1               4         2     R\n",
       "4            1              1             1               5         0     R"
      ]
     },
     "execution_count": 3,
     "metadata": {},
     "output_type": "execute_result"
    }
   ],
   "source": [
    "notNumerical = []\n",
    "for i in table.drop('class', axis = 1):\n",
    "    if (table[i].dtype.name == 'object'):\n",
    "        notNumerical.append(i)\n",
    "numerical = []\n",
    "for i in table.drop('class', axis = 1):\n",
    "    if (table[i].dtype.name != 'object'):\n",
    "        numerical.append(i)\n",
    "for z in notNumerical:\n",
    "    labelsMap = dict()\n",
    "    for i, j in enumerate(table[z].unique()):\n",
    "        if (not j in labelsMap.keys()):\n",
    "            labelsMap[j] = i\n",
    "    table[z] = table[z].map(labelsMap)\n",
    "table.head()"
   ]
  },
  {
   "cell_type": "markdown",
   "metadata": {},
   "source": [
    "# normalization"
   ]
  },
  {
   "cell_type": "code",
   "execution_count": 4,
   "metadata": {
    "scrolled": true
   },
   "outputs": [
    {
     "data": {
      "text/html": [
       "<div>\n",
       "<style scoped>\n",
       "    .dataframe tbody tr th:only-of-type {\n",
       "        vertical-align: middle;\n",
       "    }\n",
       "\n",
       "    .dataframe tbody tr th {\n",
       "        vertical-align: top;\n",
       "    }\n",
       "\n",
       "    .dataframe thead th {\n",
       "        text-align: right;\n",
       "    }\n",
       "</style>\n",
       "<table border=\"1\" class=\"dataframe\">\n",
       "  <thead>\n",
       "    <tr style=\"text-align: right;\">\n",
       "      <th></th>\n",
       "      <th>left-weight</th>\n",
       "      <th>left-distance</th>\n",
       "      <th>right-weight</th>\n",
       "      <th>right-distance</th>\n",
       "      <th>position</th>\n",
       "      <th>class</th>\n",
       "    </tr>\n",
       "  </thead>\n",
       "  <tbody>\n",
       "    <tr>\n",
       "      <th>0</th>\n",
       "      <td>9.890155</td>\n",
       "      <td>-1.331157</td>\n",
       "      <td>-1.331157</td>\n",
       "      <td>-1.408764</td>\n",
       "      <td>0</td>\n",
       "      <td>B</td>\n",
       "    </tr>\n",
       "    <tr>\n",
       "      <th>1</th>\n",
       "      <td>-0.174191</td>\n",
       "      <td>-1.331157</td>\n",
       "      <td>-1.331157</td>\n",
       "      <td>-0.704382</td>\n",
       "      <td>1</td>\n",
       "      <td>R</td>\n",
       "    </tr>\n",
       "    <tr>\n",
       "      <th>2</th>\n",
       "      <td>-0.174191</td>\n",
       "      <td>-1.331157</td>\n",
       "      <td>-1.331157</td>\n",
       "      <td>0.000000</td>\n",
       "      <td>0</td>\n",
       "      <td>R</td>\n",
       "    </tr>\n",
       "    <tr>\n",
       "      <th>3</th>\n",
       "      <td>-0.174191</td>\n",
       "      <td>-1.331157</td>\n",
       "      <td>-1.331157</td>\n",
       "      <td>0.704382</td>\n",
       "      <td>2</td>\n",
       "      <td>R</td>\n",
       "    </tr>\n",
       "    <tr>\n",
       "      <th>4</th>\n",
       "      <td>-0.174191</td>\n",
       "      <td>-1.331157</td>\n",
       "      <td>-1.331157</td>\n",
       "      <td>1.408764</td>\n",
       "      <td>0</td>\n",
       "      <td>R</td>\n",
       "    </tr>\n",
       "  </tbody>\n",
       "</table>\n",
       "</div>"
      ],
      "text/plain": [
       "   left-weight  left-distance  right-weight  right-distance  position class\n",
       "0     9.890155      -1.331157     -1.331157       -1.408764         0     B\n",
       "1    -0.174191      -1.331157     -1.331157       -0.704382         1     R\n",
       "2    -0.174191      -1.331157     -1.331157        0.000000         0     R\n",
       "3    -0.174191      -1.331157     -1.331157        0.704382         2     R\n",
       "4    -0.174191      -1.331157     -1.331157        1.408764         0     R"
      ]
     },
     "execution_count": 4,
     "metadata": {},
     "output_type": "execute_result"
    }
   ],
   "source": [
    "for column in numerical:\n",
    "    table[column] = (table[column] - table[column].mean())/table[column].std()\n",
    "table.head()"
   ]
  },
  {
   "cell_type": "markdown",
   "metadata": {},
   "source": [
    "# Label-encoding"
   ]
  },
  {
   "cell_type": "code",
   "execution_count": 5,
   "metadata": {
    "scrolled": true
   },
   "outputs": [
    {
     "data": {
      "text/html": [
       "<div>\n",
       "<style scoped>\n",
       "    .dataframe tbody tr th:only-of-type {\n",
       "        vertical-align: middle;\n",
       "    }\n",
       "\n",
       "    .dataframe tbody tr th {\n",
       "        vertical-align: top;\n",
       "    }\n",
       "\n",
       "    .dataframe thead th {\n",
       "        text-align: right;\n",
       "    }\n",
       "</style>\n",
       "<table border=\"1\" class=\"dataframe\">\n",
       "  <thead>\n",
       "    <tr style=\"text-align: right;\">\n",
       "      <th></th>\n",
       "      <th>left-weight</th>\n",
       "      <th>left-distance</th>\n",
       "      <th>right-weight</th>\n",
       "      <th>right-distance</th>\n",
       "      <th>position</th>\n",
       "      <th>class</th>\n",
       "    </tr>\n",
       "  </thead>\n",
       "  <tbody>\n",
       "    <tr>\n",
       "      <th>0</th>\n",
       "      <td>9.890155</td>\n",
       "      <td>-1.331157</td>\n",
       "      <td>-1.331157</td>\n",
       "      <td>-1.408764</td>\n",
       "      <td>0</td>\n",
       "      <td>0</td>\n",
       "    </tr>\n",
       "    <tr>\n",
       "      <th>1</th>\n",
       "      <td>-0.174191</td>\n",
       "      <td>-1.331157</td>\n",
       "      <td>-1.331157</td>\n",
       "      <td>-0.704382</td>\n",
       "      <td>1</td>\n",
       "      <td>1</td>\n",
       "    </tr>\n",
       "    <tr>\n",
       "      <th>2</th>\n",
       "      <td>-0.174191</td>\n",
       "      <td>-1.331157</td>\n",
       "      <td>-1.331157</td>\n",
       "      <td>0.000000</td>\n",
       "      <td>0</td>\n",
       "      <td>1</td>\n",
       "    </tr>\n",
       "    <tr>\n",
       "      <th>3</th>\n",
       "      <td>-0.174191</td>\n",
       "      <td>-1.331157</td>\n",
       "      <td>-1.331157</td>\n",
       "      <td>0.704382</td>\n",
       "      <td>2</td>\n",
       "      <td>1</td>\n",
       "    </tr>\n",
       "    <tr>\n",
       "      <th>4</th>\n",
       "      <td>-0.174191</td>\n",
       "      <td>-1.331157</td>\n",
       "      <td>-1.331157</td>\n",
       "      <td>1.408764</td>\n",
       "      <td>0</td>\n",
       "      <td>1</td>\n",
       "    </tr>\n",
       "  </tbody>\n",
       "</table>\n",
       "</div>"
      ],
      "text/plain": [
       "   left-weight  left-distance  right-weight  right-distance  position  class\n",
       "0     9.890155      -1.331157     -1.331157       -1.408764         0      0\n",
       "1    -0.174191      -1.331157     -1.331157       -0.704382         1      1\n",
       "2    -0.174191      -1.331157     -1.331157        0.000000         0      1\n",
       "3    -0.174191      -1.331157     -1.331157        0.704382         2      1\n",
       "4    -0.174191      -1.331157     -1.331157        1.408764         0      1"
      ]
     },
     "execution_count": 5,
     "metadata": {},
     "output_type": "execute_result"
    }
   ],
   "source": [
    "classes = table.loc[:, ['class']]\n",
    "labelsMap = dict()\n",
    "for i, j in enumerate(classes['class'].unique()):\n",
    "    if (not j in labelsMap.keys()):\n",
    "        labelsMap[j] = i\n",
    "table1 = table.copy()\n",
    "table1['class'] = table1['class'].map(labelsMap)\n",
    "vectors1 = table1.copy().drop('class', axis = 1).values.tolist()\n",
    "preclass1 = table1.copy().loc[:, ['class']].values.tolist()\n",
    "table1.head()"
   ]
  },
  {
   "cell_type": "markdown",
   "metadata": {},
   "source": [
    "# OneHot-encoding"
   ]
  },
  {
   "cell_type": "code",
   "execution_count": 6,
   "metadata": {},
   "outputs": [
    {
     "data": {
      "text/html": [
       "<div>\n",
       "<style scoped>\n",
       "    .dataframe tbody tr th:only-of-type {\n",
       "        vertical-align: middle;\n",
       "    }\n",
       "\n",
       "    .dataframe tbody tr th {\n",
       "        vertical-align: top;\n",
       "    }\n",
       "\n",
       "    .dataframe thead th {\n",
       "        text-align: right;\n",
       "    }\n",
       "</style>\n",
       "<table border=\"1\" class=\"dataframe\">\n",
       "  <thead>\n",
       "    <tr style=\"text-align: right;\">\n",
       "      <th></th>\n",
       "      <th>left-weight</th>\n",
       "      <th>left-distance</th>\n",
       "      <th>right-weight</th>\n",
       "      <th>right-distance</th>\n",
       "      <th>position</th>\n",
       "      <th>B</th>\n",
       "      <th>L</th>\n",
       "      <th>R</th>\n",
       "    </tr>\n",
       "  </thead>\n",
       "  <tbody>\n",
       "    <tr>\n",
       "      <th>0</th>\n",
       "      <td>9.890155</td>\n",
       "      <td>-1.331157</td>\n",
       "      <td>-1.331157</td>\n",
       "      <td>-1.408764</td>\n",
       "      <td>0</td>\n",
       "      <td>1</td>\n",
       "      <td>0</td>\n",
       "      <td>0</td>\n",
       "    </tr>\n",
       "    <tr>\n",
       "      <th>1</th>\n",
       "      <td>-0.174191</td>\n",
       "      <td>-1.331157</td>\n",
       "      <td>-1.331157</td>\n",
       "      <td>-0.704382</td>\n",
       "      <td>1</td>\n",
       "      <td>0</td>\n",
       "      <td>0</td>\n",
       "      <td>1</td>\n",
       "    </tr>\n",
       "    <tr>\n",
       "      <th>2</th>\n",
       "      <td>-0.174191</td>\n",
       "      <td>-1.331157</td>\n",
       "      <td>-1.331157</td>\n",
       "      <td>0.000000</td>\n",
       "      <td>0</td>\n",
       "      <td>0</td>\n",
       "      <td>0</td>\n",
       "      <td>1</td>\n",
       "    </tr>\n",
       "    <tr>\n",
       "      <th>3</th>\n",
       "      <td>-0.174191</td>\n",
       "      <td>-1.331157</td>\n",
       "      <td>-1.331157</td>\n",
       "      <td>0.704382</td>\n",
       "      <td>2</td>\n",
       "      <td>0</td>\n",
       "      <td>0</td>\n",
       "      <td>1</td>\n",
       "    </tr>\n",
       "    <tr>\n",
       "      <th>4</th>\n",
       "      <td>-0.174191</td>\n",
       "      <td>-1.331157</td>\n",
       "      <td>-1.331157</td>\n",
       "      <td>1.408764</td>\n",
       "      <td>0</td>\n",
       "      <td>0</td>\n",
       "      <td>0</td>\n",
       "      <td>1</td>\n",
       "    </tr>\n",
       "  </tbody>\n",
       "</table>\n",
       "</div>"
      ],
      "text/plain": [
       "   left-weight  left-distance  right-weight  right-distance  position  B  L  R\n",
       "0     9.890155      -1.331157     -1.331157       -1.408764         0  1  0  0\n",
       "1    -0.174191      -1.331157     -1.331157       -0.704382         1  0  0  1\n",
       "2    -0.174191      -1.331157     -1.331157        0.000000         0  0  0  1\n",
       "3    -0.174191      -1.331157     -1.331157        0.704382         2  0  0  1\n",
       "4    -0.174191      -1.331157     -1.331157        1.408764         0  0  0  1"
      ]
     },
     "execution_count": 6,
     "metadata": {},
     "output_type": "execute_result"
    }
   ],
   "source": [
    "table2 = pandas.concat([table.drop('class', axis = 1), pandas.get_dummies(classes['class'])], axis = 'columns')\n",
    "vectors2 = table2.copy().drop(table['class'].unique(), axis = 1).values.tolist()\n",
    "preclass2 = table2.copy()[table['class'].unique()].values.tolist()\n",
    "table2.head()"
   ]
  },
  {
   "cell_type": "markdown",
   "metadata": {},
   "source": [
    "# f-score"
   ]
  },
  {
   "cell_type": "code",
   "execution_count": 7,
   "metadata": {},
   "outputs": [],
   "source": [
    "n = 0\n",
    "alll = 0\n",
    "confussion_matrix = []\n",
    "#recall = TP/P\n",
    "#precision = TP/(TP+FP)\n",
    "\n",
    "def recall(now):\n",
    "    p = 0\n",
    "    for i in range(n):\n",
    "        p += confussion_matrix[now][i] #all objects from current class\n",
    "    if p != 0:\n",
    "        return confussion_matrix[now][now] / p #TP / P\n",
    "    else:\n",
    "        return 0\n",
    "\n",
    "def precision(now):\n",
    "    tpfp = 0\n",
    "    for i in range(n):\n",
    "        tpfp += confussion_matrix[i][now] #all objects recognized as current class\n",
    "    if tpfp != 0:\n",
    "        return confussion_matrix[now][now] / tpfp #TP /(TP+FP)\n",
    "    else:\n",
    "        return 0\n",
    "\n",
    "def objfromclass(now):\n",
    "    p = 0\n",
    "    for i in range(n):\n",
    "        p += confussion_matrix[now][i] #all objects from current class\n",
    "    return p\n",
    "\n",
    "def f(now):\n",
    "    if (recall(now) + precision(now)) != 0:\n",
    "        return 2 * recall(now) * precision(now) / (recall(now) + precision(now))\n",
    "    else:\n",
    "        return 0\n",
    "\n",
    "def fmacro():\n",
    "    #fmacro = harmonic between PrecW and RecallW\n",
    "    recallW = 0\n",
    "    for i in range (n):\n",
    "        recallW += objfromclass(i) * recall(i)\n",
    "    recallW /= alll\n",
    "    precisionW = 0\n",
    "    for i in range (n):\n",
    "        precisionW += objfromclass(i) * precision(i)\n",
    "    precisionW /= alll\n",
    "    if (recallW + precisionW) != 0:\n",
    "        return 2 * recallW * precisionW / (recallW + precisionW)\n",
    "    else:\n",
    "        return 0\n",
    "\n",
    "def fmicro():\n",
    "    #weighted because of muli-class\n",
    "    #fmicro = sum(c)(C(c) * F(c))/All)\n",
    "    tmp = 0\n",
    "    for i in range (n):\n",
    "        tmp += objfromclass(i) * f(i)\n",
    "    return tmp / alll\n",
    "\n",
    "def getFscore(conf_matr):\n",
    "    global confussion_matrix\n",
    "    confussion_matrix = conf_matr\n",
    "    global n\n",
    "    n = len(confussion_matrix)\n",
    "    global alll\n",
    "    alll = 0\n",
    "    for i in range(n):\n",
    "        for j in range(n):\n",
    "            alll += confussion_matrix[i][j]\n",
    "    return fmacro()"
   ]
  },
  {
   "cell_type": "markdown",
   "metadata": {},
   "source": [
    "# predict "
   ]
  },
  {
   "cell_type": "code",
   "execution_count": 8,
   "metadata": {},
   "outputs": [],
   "source": [
    "def getClass(targ):\n",
    "    if len(targ) > 1:\n",
    "        return numpy.argmax(targ)\n",
    "    else:\n",
    "        return int(numpy.round(targ))\n",
    "\n",
    "#predictor.predict(3, 2, vectors1, preclass1, [0, 0], \"euclidean\", \"uniform\", \"fixed\", 2)\n",
    "def makeConfussionMatrix(vecs, classs, metricStr, kernStr, windowStr, windowH):\n",
    "    countVecs = len(vecs)\n",
    "    countClasss = 0\n",
    "    if len(classs[0]) > 1:\n",
    "        countClasss = len(classs[0])\n",
    "    else:\n",
    "        countClasss = len(numpy.unique(classs))\n",
    "    conf_matrix = []\n",
    "    for i in range(countClasss):\n",
    "        conf_matrix.append([])\n",
    "        for j in range(countClasss):\n",
    "            conf_matrix[i].append(0)\n",
    "    for targ in range(countVecs):\n",
    "        predClass = getClass(predictor.predict(len(vecs), len(vecs[0]), vecs, classs, vecs[targ], metricStr, kernStr, windowStr, windowH))\n",
    "        realClass = getClass(classs[targ])\n",
    "        conf_matrix[realClass][predClass] += 1\n",
    "    return conf_matrix\n",
    "        "
   ]
  },
  {
   "cell_type": "code",
   "execution_count": 9,
   "metadata": {},
   "outputs": [],
   "source": [
    "#makeConfussionMatrix(vectors1, preclass1, \"euclidean\", \"uniform\", \"fixed\", 2)"
   ]
  },
  {
   "cell_type": "code",
   "execution_count": 10,
   "metadata": {},
   "outputs": [],
   "source": [
    "def allHypers(vecs, classs):\n",
    "    maxF = -100\n",
    "    maxMetric = None\n",
    "    maxKern = None\n",
    "    maxWindow = None\n",
    "    maxH = None\n",
    "    for mm in predictor.enumMetric:\n",
    "        for mk in predictor.enumKern:\n",
    "            for mw in predictor.enumWindow:\n",
    "                if mw == predictor.enumWindow.VAR:\n",
    "                    for mh in range(1, len(vecs), 10):\n",
    "                        conf_matrix = makeConfussionMatrix(vecs, classs, mm, mk, mw, mh)\n",
    "                        nowF = getFscore(conf_matrix)\n",
    "                        if nowF > maxF:\n",
    "                            maxF = nowF\n",
    "                            maxMetric = mm\n",
    "                            maxKern = mk\n",
    "                            maxWindow = mw\n",
    "                            maxH = mh\n",
    "                else:\n",
    "                    for mh in range(1, 15, 5):\n",
    "                        conf_matrix = makeConfussionMatrix(vecs, classs, mm, mk, mw, mh)\n",
    "                        nowF = getFscore(conf_matrix)\n",
    "                        if nowF > maxF:\n",
    "                            maxF = nowF\n",
    "                            maxMetric = mm\n",
    "                            maxKern = mk\n",
    "                            maxWindow = mw\n",
    "                            maxH = mh\n",
    "    return (maxF, maxMetric, maxKern, maxWindow, maxH)"
   ]
  },
  {
   "cell_type": "code",
   "execution_count": 11,
   "metadata": {},
   "outputs": [],
   "source": [
    "#print (allHypers(vectors1, preclass1))"
   ]
  },
  {
   "cell_type": "code",
   "execution_count": 12,
   "metadata": {},
   "outputs": [],
   "source": [
    "def graphics (vecs, classs):\n",
    "    result = allHypers(vecs, classs)\n",
    "    print (\"Best f - \", result[0])\n",
    "    print (\"Best metric - \", result[1])\n",
    "    print (\"Best kern - \", result[2])\n",
    "    print (\"Best window type - \", result[3])\n",
    "    print (\"Best size of window/count of neighbours - \", result[4])\n",
    "    fs = []\n",
    "    for mh in range(2, min(15, len(vecs))):\n",
    "        fs.append(getFscore(makeConfussionMatrix(vecs, classs, result[1], result[2], result[3], mh)))\n",
    "    graphs.plot(range(2, min(15, len(vecs))), fs)\n",
    "    graphs.xlabel(\"size of window/count of neighbours\")\n",
    "    graphs.ylabel(\"value of f\")\n",
    "    graphs.show"
   ]
  },
  {
   "cell_type": "code",
   "execution_count": 13,
   "metadata": {
    "scrolled": true
   },
   "outputs": [
    {
     "name": "stdout",
     "output_type": "stream",
     "text": [
      "Best f -  0.9847647271581748\n",
      "Best metric -  enumMetric.EU\n",
      "Best kern -  enumKern.TRIW\n",
      "Best window type -  enumWindow.VAR\n",
      "Best size of window/count of neighbours -  4\n"
     ]
    },
    {
     "data": {
      "image/png": "[encoded data removed]",
      "text/plain": [
       "<Figure size 432x288 with 1 Axes>"
      ]
     },
     "metadata": {
      "needs_background": "light"
     },
     "output_type": "display_data"
    }
   ],
   "source": [
    "graphics(vectors1, preclass1)"
   ]
  },
  {
   "cell_type": "code",
   "execution_count": 14,
   "metadata": {
    "scrolled": true
   },
   "outputs": [
    {
     "name": "stdout",
     "output_type": "stream",
     "text": [
      "Best f -  1.0\n",
      "Best metric -  enumMetric.MAN\n",
      "Best kern -  enumKern.TRIW\n",
      "Best window type -  enumWindow.VAR\n",
      "Best size of window/count of neighbours -  4\n"
     ]
    },
    {
     "data": {
      "image/png": "[encoded data removed]",
      "text/plain": [
       "<Figure size 432x288 with 1 Axes>"
      ]
     },
     "metadata": {
      "needs_background": "light"
     },
     "output_type": "display_data"
    }
   ],
   "source": [
    "graphics(vectors2, preclass2)"
   ]
  }
 ],
 "metadata": {
  "kernelspec": {
   "display_name": "Python 3",
   "language": "python",
   "name": "python3"
  },
  "language_info": {
   "codemirror_mode": {
    "name": "ipython",
    "version": 3
   },
   "file_extension": ".py",
   "mimetype": "text/x-python",
   "name": "python",
   "nbconvert_exporter": "python",
   "pygments_lexer": "ipython3",
   "version": "3.7.7"
  }
 },
 "nbformat": 4,
 "nbformat_minor": 4
}
