{
 "cells": [
  {
   "cell_type": "code",
   "execution_count": 22,
   "metadata": {},
   "outputs": [],
   "source": [
    "import pandas as pd\n",
    "import numpy as np\n",
    "from sklearn.tree import DecisionTreeClassifier\n",
    "from sklearn.metrics import accuracy_score\n",
    "import matplotlib.pyplot as graphs\n",
    "from sklearn.ensemble import RandomForestClassifier"
   ]
  },
  {
   "cell_type": "code",
   "execution_count": 2,
   "metadata": {},
   "outputs": [],
   "source": [
    "def readXY(index):\n",
    "    index = str(index)\n",
    "    if len(index) == 1:\n",
    "        index = '0' + index\n",
    "    trainTemp = pd.read_csv(\"data/\" + index + \"_\" + \"train.csv\")\n",
    "    trainX = trainTemp[trainTemp.columns[:-1]].loc[:].values\n",
    "    trainY = trainTemp[trainTemp.columns[-1]].loc[:].values\n",
    "    \n",
    "    testTemp = pd.read_csv(\"data/\" + index + \"_\" + \"test.csv\")\n",
    "    testX = testTemp[testTemp.columns[:-1]].loc[:].values\n",
    "    testY = testTemp[testTemp.columns[-1]].loc[:].values\n",
    "    return trainX, trainY, testX, testY"
   ]
  },
  {
   "cell_type": "code",
   "execution_count": 3,
   "metadata": {},
   "outputs": [
    {
     "name": "stdout",
     "output_type": "stream",
     "text": [
      "Processing file #1\n",
      "Processing file #2\n",
      "Processing file #3\n",
      "Processing file #4\n",
      "Processing file #5\n",
      "Processing file #6\n",
      "Processing file #7\n",
      "Processing file #8\n",
      "Processing file #9\n",
      "Processing file #10\n",
      "Processing file #11\n",
      "Processing file #12\n",
      "Processing file #13\n",
      "Processing file #14\n",
      "Processing file #15\n",
      "Processing file #16\n",
      "Processing file #17\n",
      "Processing file #18\n",
      "Processing file #19\n",
      "Processing file #20\n",
      "Processing file #21\n"
     ]
    }
   ],
   "source": [
    "#https://scikit-learn.org/stable/modules/generated/sklearn.tree.DecisionTreeClassifier.html\n",
    "n = 21\n",
    "max_depth = 15\n",
    "crits = [\"gini\", \"entropy\"]\n",
    "splittings = [\"random\", \"best\"]\n",
    "depths = []\n",
    "for i in range(max_depth):\n",
    "    depths.append(i + 1)\n",
    "\n",
    "bestTrees = []\n",
    "\n",
    "for i in range(n):\n",
    "    print(\"Processing file #\", end='')\n",
    "    print(i + 1)\n",
    "    maxAcc = 0\n",
    "    maxParams = (\"\", \"\", 0)\n",
    "    fileIndex = i + 1\n",
    "    file = readXY(fileIndex) #trainX, trainY, testX, testY\n",
    "    curTrainX = file[0]\n",
    "    curTrainY = file[1]\n",
    "    curTestX = file[2]\n",
    "    curTestY = file[3]\n",
    "    for crit in crits:\n",
    "        for splitting in splittings:\n",
    "            for depth in depths:\n",
    "                tree = DecisionTreeClassifier(criterion = crit, splitter = splitting, max_depth = depth)\n",
    "                tree.fit(curTrainX, curTrainY)\n",
    "                yPredicted = tree.predict(curTestX)\n",
    "                yTrue = curTestY\n",
    "                curAcc = accuracy_score(yTrue, yPredicted)\n",
    "                if (curAcc > maxAcc):\n",
    "                    maxAcc = curAcc\n",
    "                    maxParams = (crit, splitting, depth)\n",
    "    bestTrees.append((maxAcc, maxParams))"
   ]
  },
  {
   "cell_type": "code",
   "execution_count": 4,
   "metadata": {},
   "outputs": [
    {
     "name": "stdout",
     "output_type": "stream",
     "text": [
      "1 11\n"
     ]
    }
   ],
   "source": [
    "maxAnsDepth = 0\n",
    "minAnsDepth = 100\n",
    "ind = 0\n",
    "for pair in bestTrees:\n",
    "    ind += 1\n",
    "    if (pair[1][2] >= maxAnsDepth):\n",
    "        maxAnsDepth = pair[1][2]\n",
    "        treeWithMaxDepth = ind\n",
    "    if (pair[1][2] <= minAnsDepth):\n",
    "        minAnsDepth = pair[1][2]\n",
    "        treeWithMinDepth = ind\n",
    "print (minAnsDepth, maxAnsDepth)"
   ]
  },
  {
   "cell_type": "markdown",
   "metadata": {},
   "source": [
    "# Graphic for tree with min optimal depth"
   ]
  },
  {
   "cell_type": "code",
   "execution_count": 5,
   "metadata": {},
   "outputs": [],
   "source": [
    "#only 2 classes\n",
    "#x = acc, y = depth\n",
    "minAccsGraph = []\n",
    "minDepthsGraph = []\n",
    "file = readXY(treeWithMinDepth) #trainX, trainY, testX, testY\n",
    "curTrainX = file[0]\n",
    "curTrainY = file[1]\n",
    "curTestX = file[2]\n",
    "curTestY = file[3]\n",
    "params = bestTrees[treeWithMinDepth - 1][1]\n",
    "for i in range(50):\n",
    "    depth = i + 1\n",
    "    tree = DecisionTreeClassifier(criterion = params[0], splitter = params[1], max_depth = depth)\n",
    "    tree.fit(curTrainX, curTrainY)\n",
    "    yPredicted = tree.predict(curTestX)\n",
    "    yTrue = curTestY\n",
    "    curAcc = accuracy_score(yTrue, yPredicted)\n",
    "    minAccsGraph.append(curAcc)\n",
    "    minDepthsGraph.append(depth)"
   ]
  },
  {
   "cell_type": "code",
   "execution_count": 6,
   "metadata": {},
   "outputs": [
    {
     "data": {
      "image/png": "[encoded data removed]",
      "text/plain": [
       "<Figure size 432x288 with 1 Axes>"
      ]
     },
     "metadata": {
      "needs_background": "light"
     },
     "output_type": "display_data"
    }
   ],
   "source": [
    "graphs.plot(minAccsGraph, minDepthsGraph)\n",
    "graphs.xlabel('Accuracy')\n",
    "graphs.ylabel('Depth')\n",
    "graphs.show()"
   ]
  },
  {
   "cell_type": "markdown",
   "metadata": {},
   "source": [
    "# Graphic for tree with max optimal depth"
   ]
  },
  {
   "cell_type": "code",
   "execution_count": 7,
   "metadata": {},
   "outputs": [],
   "source": [
    "#x = acc, y = depth\n",
    "maxAccsGraph = []\n",
    "maxDepthsGraph = []\n",
    "file = readXY(treeWithMaxDepth) #trainX, trainY, testX, testY\n",
    "curTrainX = file[0]\n",
    "curTrainY = file[1]\n",
    "curTestX = file[2]\n",
    "curTestY = file[3]\n",
    "params = bestTrees[treeWithMaxDepth - 1][1]\n",
    "for i in range(15):\n",
    "    depth = i + 1\n",
    "    tree = DecisionTreeClassifier(criterion = params[0], splitter = params[1], max_depth = depth)\n",
    "    tree.fit(curTrainX, curTrainY)\n",
    "    yPredicted = tree.predict(curTestX)\n",
    "    yTrue = curTestY\n",
    "    curAcc = accuracy_score(yTrue, yPredicted)\n",
    "    maxAccsGraph.append(curAcc)\n",
    "    maxDepthsGraph.append(depth)"
   ]
  },
  {
   "cell_type": "code",
   "execution_count": 30,
   "metadata": {},
   "outputs": [
    {
     "data": {
      "image/png": "[encoded data removed]",
      "text/plain": [
       "<Figure size 432x288 with 1 Axes>"
      ]
     },
     "metadata": {
      "needs_background": "light"
     },
     "output_type": "display_data"
    }
   ],
   "source": [
    "graphs.plot(maxDepthsGraph, maxAccsGraph)\n",
    "graphs.xlabel('Accuracy')\n",
    "graphs.ylabel('Depth')\n",
    "graphs.show()"
   ]
  },
  {
   "cell_type": "code",
   "execution_count": 28,
   "metadata": {},
   "outputs": [
    {
     "name": "stdout",
     "output_type": "stream",
     "text": [
      "Processing file #1\n",
      "Processing file #2\n",
      "Processing file #3\n",
      "Processing file #4\n",
      "Processing file #5\n",
      "Processing file #6\n",
      "Processing file #7\n",
      "Processing file #8\n",
      "Processing file #9\n",
      "Processing file #10\n",
      "Processing file #11\n",
      "Processing file #12\n",
      "Processing file #13\n",
      "Processing file #14\n",
      "Processing file #15\n",
      "Processing file #16\n",
      "Processing file #17\n",
      "Processing file #18\n",
      "Processing file #19\n",
      "Processing file #20\n",
      "Processing file #21\n"
     ]
    }
   ],
   "source": [
    "forest = []\n",
    "for i in range(n):\n",
    "    forest.append([])\n",
    "    print(\"Processing file #\", end='')\n",
    "    print(i + 1)\n",
    "    fileIndex = i + 1\n",
    "    file = readXY(fileIndex) #trainX, trainY, testX, testY\n",
    "    curTrainX = file[0]\n",
    "    curTrainY = file[1]\n",
    "    curTestX = file[2]\n",
    "    curTestY = file[3]\n",
    "    for crit in crits:\n",
    "        tree = RandomForestClassifier(n_estimators = 5, criterion = crit)\n",
    "        tree.fit(curTrainX, curTrainY)\n",
    "        yPredicted = tree.predict(curTestX)\n",
    "        yTrue = curTestY\n",
    "        curAcc = accuracy_score(yTrue, yPredicted)\n",
    "        forest[i].append((curAcc, crit))"
   ]
  },
  {
   "cell_type": "code",
   "execution_count": 29,
   "metadata": {},
   "outputs": [
    {
     "data": {
      "text/html": [
       "<div>\n",
       "<style scoped>\n",
       "    .dataframe tbody tr th:only-of-type {\n",
       "        vertical-align: middle;\n",
       "    }\n",
       "\n",
       "    .dataframe tbody tr th {\n",
       "        vertical-align: top;\n",
       "    }\n",
       "\n",
       "    .dataframe thead th {\n",
       "        text-align: right;\n",
       "    }\n",
       "</style>\n",
       "<table border=\"1\" class=\"dataframe\">\n",
       "  <thead>\n",
       "    <tr style=\"text-align: right;\">\n",
       "      <th></th>\n",
       "      <th>gini</th>\n",
       "      <th>entropy</th>\n",
       "    </tr>\n",
       "  </thead>\n",
       "  <tbody>\n",
       "    <tr>\n",
       "      <th>1</th>\n",
       "      <td>0.992547</td>\n",
       "      <td>0.990234</td>\n",
       "    </tr>\n",
       "    <tr>\n",
       "      <th>2</th>\n",
       "      <td>0.374046</td>\n",
       "      <td>0.279644</td>\n",
       "    </tr>\n",
       "    <tr>\n",
       "      <th>3</th>\n",
       "      <td>0.993250</td>\n",
       "      <td>0.954195</td>\n",
       "    </tr>\n",
       "    <tr>\n",
       "      <th>4</th>\n",
       "      <td>0.792348</td>\n",
       "      <td>0.773565</td>\n",
       "    </tr>\n",
       "    <tr>\n",
       "      <th>5</th>\n",
       "      <td>0.993506</td>\n",
       "      <td>0.987013</td>\n",
       "    </tr>\n",
       "    <tr>\n",
       "      <th>6</th>\n",
       "      <td>0.881898</td>\n",
       "      <td>0.869205</td>\n",
       "    </tr>\n",
       "    <tr>\n",
       "      <th>7</th>\n",
       "      <td>0.832558</td>\n",
       "      <td>0.847442</td>\n",
       "    </tr>\n",
       "    <tr>\n",
       "      <th>8</th>\n",
       "      <td>0.975052</td>\n",
       "      <td>0.970894</td>\n",
       "    </tr>\n",
       "    <tr>\n",
       "      <th>9</th>\n",
       "      <td>0.500000</td>\n",
       "      <td>0.570588</td>\n",
       "    </tr>\n",
       "    <tr>\n",
       "      <th>10</th>\n",
       "      <td>0.974245</td>\n",
       "      <td>0.974245</td>\n",
       "    </tr>\n",
       "    <tr>\n",
       "      <th>11</th>\n",
       "      <td>0.997586</td>\n",
       "      <td>0.995976</td>\n",
       "    </tr>\n",
       "    <tr>\n",
       "      <th>12</th>\n",
       "      <td>0.865001</td>\n",
       "      <td>0.858546</td>\n",
       "    </tr>\n",
       "    <tr>\n",
       "      <th>13</th>\n",
       "      <td>0.334862</td>\n",
       "      <td>0.306422</td>\n",
       "    </tr>\n",
       "    <tr>\n",
       "      <th>14</th>\n",
       "      <td>0.756465</td>\n",
       "      <td>0.721729</td>\n",
       "    </tr>\n",
       "    <tr>\n",
       "      <th>15</th>\n",
       "      <td>0.992192</td>\n",
       "      <td>0.994595</td>\n",
       "    </tr>\n",
       "    <tr>\n",
       "      <th>16</th>\n",
       "      <td>0.928660</td>\n",
       "      <td>0.959813</td>\n",
       "    </tr>\n",
       "    <tr>\n",
       "      <th>17</th>\n",
       "      <td>0.311558</td>\n",
       "      <td>0.344500</td>\n",
       "    </tr>\n",
       "    <tr>\n",
       "      <th>18</th>\n",
       "      <td>0.749069</td>\n",
       "      <td>0.668652</td>\n",
       "    </tr>\n",
       "    <tr>\n",
       "      <th>19</th>\n",
       "      <td>0.695424</td>\n",
       "      <td>0.697674</td>\n",
       "    </tr>\n",
       "    <tr>\n",
       "      <th>20</th>\n",
       "      <td>0.947306</td>\n",
       "      <td>0.954834</td>\n",
       "    </tr>\n",
       "    <tr>\n",
       "      <th>21</th>\n",
       "      <td>0.684211</td>\n",
       "      <td>0.677235</td>\n",
       "    </tr>\n",
       "  </tbody>\n",
       "</table>\n",
       "</div>"
      ],
      "text/plain": [
       "        gini   entropy\n",
       "1   0.992547  0.990234\n",
       "2   0.374046  0.279644\n",
       "3   0.993250  0.954195\n",
       "4   0.792348  0.773565\n",
       "5   0.993506  0.987013\n",
       "6   0.881898  0.869205\n",
       "7   0.832558  0.847442\n",
       "8   0.975052  0.970894\n",
       "9   0.500000  0.570588\n",
       "10  0.974245  0.974245\n",
       "11  0.997586  0.995976\n",
       "12  0.865001  0.858546\n",
       "13  0.334862  0.306422\n",
       "14  0.756465  0.721729\n",
       "15  0.992192  0.994595\n",
       "16  0.928660  0.959813\n",
       "17  0.311558  0.344500\n",
       "18  0.749069  0.668652\n",
       "19  0.695424  0.697674\n",
       "20  0.947306  0.954834\n",
       "21  0.684211  0.677235"
      ]
     },
     "execution_count": 29,
     "metadata": {},
     "output_type": "execute_result"
    }
   ],
   "source": [
    "preTable = []\n",
    "indeces = []\n",
    "name1 = forest[0][0][1]\n",
    "name2 = forest[0][1][1]\n",
    "for i in range(n):\n",
    "    indeces.append(i + 1)\n",
    "    preTable.append([forest[i][0][0], forest[i][1][0]])\n",
    "table = pd.DataFrame(preTable, index = indeces, columns = [name1, name2])\n",
    "table"
   ]
  },
  {
   "cell_type": "code",
   "execution_count": null,
   "metadata": {},
   "outputs": [],
   "source": []
  }
 ],
 "metadata": {
  "kernelspec": {
   "display_name": "Python 3",
   "language": "python",
   "name": "python3"
  },
  "language_info": {
   "codemirror_mode": {
    "name": "ipython",
    "version": 3
   },
   "file_extension": ".py",
   "mimetype": "text/x-python",
   "name": "python",
   "nbconvert_exporter": "python",
   "pygments_lexer": "ipython3",
   "version": "3.7.7"
  }
 },
 "nbformat": 4,
 "nbformat_minor": 4
}
